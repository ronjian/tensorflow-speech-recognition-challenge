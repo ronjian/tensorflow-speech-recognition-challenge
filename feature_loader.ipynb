{
 "cells": [
  {
   "cell_type": "code",
   "execution_count": 1,
   "metadata": {},
   "outputs": [
    {
     "data": {
      "text/html": [
       "<script>requirejs.config({paths: { 'plotly': ['https://cdn.plot.ly/plotly-latest.min']},});if(!window.Plotly) {{require(['plotly'],function(plotly) {window.Plotly=plotly;});}}</script>"
      ],
      "text/vnd.plotly.v1+html": [
       "<script>requirejs.config({paths: { 'plotly': ['https://cdn.plot.ly/plotly-latest.min']},});if(!window.Plotly) {{require(['plotly'],function(plotly) {window.Plotly=plotly;});}}</script>"
      ]
     },
     "metadata": {},
     "output_type": "display_data"
    }
   ],
   "source": [
    "import os\n",
    "from os.path import isdir, join\n",
    "from pathlib import Path\n",
    "import pandas as pd\n",
    "\n",
    "# Math\n",
    "import numpy as np\n",
    "from scipy.fftpack import fft\n",
    "from scipy import signal\n",
    "from scipy.io import wavfile\n",
    "import librosa\n",
    "\n",
    "from sklearn.decomposition import PCA\n",
    "\n",
    "# Visualization\n",
    "import matplotlib.pyplot as plt\n",
    "import seaborn as sns\n",
    "import IPython.display as ipd\n",
    "import librosa.display\n",
    "\n",
    "import plotly.offline as py\n",
    "py.init_notebook_mode(connected=True)\n",
    "import plotly.graph_objs as go\n",
    "import plotly.tools as tls\n",
    "import pandas as pd\n",
    "\n",
    "import re\n",
    "import hashlib\n",
    "from tensorflow.python.util import compat\n",
    "import pickle\n",
    "import random\n",
    "import io\n",
    "random.seed(59185)\n",
    "\n",
    "%matplotlib inline"
   ]
  },
  {
   "cell_type": "code",
   "execution_count": 2,
   "metadata": {},
   "outputs": [
    {
     "name": "stdout",
     "output_type": "stream",
     "text": [
      "There are 337 one second noise.\n",
      "There are 59 one second white.\n"
     ]
    }
   ],
   "source": [
    "noise_dir = '/home/maikfangogoair/tmp/label_data/_background_noise_/'\n",
    "def noise_pool(noise_dir):\n",
    "    noise_list = []\n",
    "    white_list = []\n",
    "    for x in os.listdir(noise_dir):\n",
    "        if (x.endswith(\".wav\") or x.endswith(\".WAV\")) :\n",
    "            y, sr = librosa.load(noise_dir + x , sr=None)\n",
    "            for i in range(0, y.shape[0], sr):\n",
    "                if i + sr < y.shape[0]:\n",
    "                    sample = y[i: i + sr]\n",
    "                    if x != \"white_noise.wav\":\n",
    "                        noise_list.append(sample)\n",
    "                    else :\n",
    "                        white_list.append(sample)\n",
    "                    \n",
    "    print(\"There are %d one second noise.\" % len(noise_list))\n",
    "    print(\"There are %d one second white.\" % len(white_list))\n",
    "    return noise_list, white_list\n",
    "NOISE_LIST, WHITE_LIST = noise_pool(noise_dir)\n",
    "NOISE_POOL_SIZE = len(NOISE_LIST)\n",
    "WHITE_POOL_SIZE = len(WHITE_LIST)"
   ]
  },
  {
   "cell_type": "code",
   "execution_count": 3,
   "metadata": {},
   "outputs": [],
   "source": [
    "#https://github.com/adiyoss/GCommandsPytorch/blob/master/gcommand_loader.py\n",
    "def get_spect(path, normalize=True , window_size=.02, window_stride=.01, window='hamming', max_len=101, \\\n",
    "                                              add_noise = False,use_white=False ,background_loud=0.3, foreground_loud = 1.0):\n",
    "    y, sr = librosa.load(path, sr=None)\n",
    "    if add_noise == True:\n",
    "        if use_white:\n",
    "            noise = (NOISE_LIST+WHITE_LIST)[random.randint(0, NOISE_POOL_SIZE+WHITE_POOL_SIZE -1 )][0:y.shape[0]]\n",
    "        else:\n",
    "            noise = NOISE_LIST[random.randint(0, NOISE_POOL_SIZE -1 )][0:y.shape[0]]\n",
    "        y = foreground_loud * y + background_loud * noise\n",
    "    n_fft = int(sr * window_size)\n",
    "    win_length = n_fft\n",
    "    hop_length = int(sr * window_stride)\n",
    "\n",
    "    # STFT\n",
    "    D = librosa.stft(y, n_fft=n_fft, hop_length=hop_length,\n",
    "                     win_length=win_length, window=window)\n",
    "    spect, _ = librosa.magphase(D)\n",
    "    # S = log(S+1)\n",
    "    spect = np.log1p(spect)\n",
    "\n",
    "    # make all spects with the same dims\n",
    "    if spect.shape[1] < max_len:\n",
    "        pad = np.zeros((spect.shape[0], max_len - spect.shape[1]))\n",
    "        spect = np.hstack((spect, pad))\n",
    "    elif spect.shape[1] > max_len:\n",
    "        spect = spect[:max_len, ]\n",
    "    spect = np.resize(spect, (1, spect.shape[0], spect.shape[1]))\n",
    "    \n",
    "    if normalize:\n",
    "        mean = spect.mean()\n",
    "        std = spect.std()\n",
    "        if std != 0:\n",
    "            spect = (spect - mean) /std\n",
    "\n",
    "    return spect "
   ]
  },
  {
   "cell_type": "code",
   "execution_count": 4,
   "metadata": {},
   "outputs": [],
   "source": [
    "# def extract_background(path,func):\n",
    "#     S_full = func(path=path, normalize=False)\n",
    "    \n",
    "#     S_filter = librosa.decompose.nn_filter(S_full,\n",
    "#                                            aggregate=np.median,\n",
    "#                                            metric='cosine',\n",
    "#                                            width=int(librosa.time_to_frames(1, sr=16000)))\n",
    "\n",
    "\n",
    "#     S_filter = np.minimum(S_full, S_filter)\n",
    "\n",
    "#     margin_i, margin_v = 2, 10\n",
    "#     power = 2\n",
    "\n",
    "#     mask_i = librosa.util.softmask(S_filter,\n",
    "#                                    margin_i * (S_full - S_filter),\n",
    "#                                    power=power)\n",
    "\n",
    "#     # mask_v = librosa.util.softmask(S_full - S_filter,\n",
    "#     #                                margin_v * S_filter,\n",
    "#     #                                power=power)\n",
    "\n",
    "#     # S_foreground = mask_v * S_full\n",
    "#     S_background = mask_i * S_full\n",
    "#     return S_background\n",
    "    "
   ]
  },
  {
   "cell_type": "code",
   "execution_count": 5,
   "metadata": {},
   "outputs": [],
   "source": [
    "#copy from https://github.com/tensorflow/tensorflow/blob/master/tensorflow/examples/speech_commands/input_data.py#L61\n",
    "def which_set(filename, validation_percentage, testing_percentage):\n",
    "  \"\"\"Determines which data partition the file should belong to.\n",
    "  We want to keep files in the same training, validation, or testing sets even\n",
    "  if new ones are added over time. This makes it less likely that testing\n",
    "  samples will accidentally be reused in training when long runs are restarted\n",
    "  for example. To keep this stability, a hash of the filename is taken and used\n",
    "  to determine which set it should belong to. This determination only depends on\n",
    "  the name and the set proportions, so it won't change as other files are added.\n",
    "  It's also useful to associate particular files as related (for example words\n",
    "  spoken by the same person), so anything after '_nohash_' in a filename is\n",
    "  ignored for set determination. This ensures that 'bobby_nohash_0.wav' and\n",
    "  'bobby_nohash_1.wav' are always in the same set, for example.\n",
    "  Args:\n",
    "    filename: File path of the data sample.\n",
    "    validation_percentage: How much of the data set to use for validation.\n",
    "    testing_percentage: How much of the data set to use for testing.\n",
    "  Returns:\n",
    "    String, one of 'training', 'validation', or 'testing'.\n",
    "  \"\"\"\n",
    "  base_name = os.path.basename(filename)\n",
    "  # We want to ignore anything after '_nohash_' in the file name when\n",
    "  # deciding which set to put a wav in, so the data set creator has a way of\n",
    "  # grouping wavs that are close variations of each other.\n",
    "  hash_name = re.sub(r'_nohash_.*$', '', base_name)\n",
    "  # This looks a bit magical, but we need to decide whether this file should\n",
    "  # go into the training, testing, or validation sets, and we want to keep\n",
    "  # existing files in the same set even if more files are subsequently\n",
    "  # added.\n",
    "  # To do that, we need a stable way of deciding based on just the file name\n",
    "  # itself, so we do a hash of that and then use that to generate a\n",
    "  # probability value that we use to assign it.\n",
    "  hash_name_hashed = hashlib.sha1(compat.as_bytes(hash_name)).hexdigest()\n",
    "  MAX_NUM_WAVS_PER_CLASS = 2**27 - 1  # ~134M\n",
    "  percentage_hash = ((int(hash_name_hashed, 16) %\n",
    "                      (MAX_NUM_WAVS_PER_CLASS + 1)) *\n",
    "                     (100.0 / MAX_NUM_WAVS_PER_CLASS))\n",
    "  if percentage_hash < validation_percentage:\n",
    "    result = 'validation'\n",
    "  elif percentage_hash < (testing_percentage + validation_percentage):\n",
    "    result = 'testing'\n",
    "  else:\n",
    "    result = 'training'\n",
    "  return result"
   ]
  },
  {
   "cell_type": "code",
   "execution_count": 6,
   "metadata": {},
   "outputs": [],
   "source": [
    "def save_feature(all_data , feature_name , save_dir):\n",
    "    condition = True\n",
    "    version = 0\n",
    "    while (condition):\n",
    "        version += 1\n",
    "        save_file = feature_name + \"_v\" + str(version) + \".pkl\"\n",
    "        condition = save_file in os.listdir(save_dir)\n",
    "        \n",
    "    \n",
    "    with open(save_dir + save_file, 'wb') as fp:\n",
    "        pickle.dump(all_data, fp)\n",
    "    print(\"saved file is: \" + save_dir + save_file)"
   ]
  },
  {
   "cell_type": "code",
   "execution_count": 7,
   "metadata": {},
   "outputs": [
    {
     "name": "stdout",
     "output_type": "stream",
     "text": [
      "executing ... 1000\n",
      "executing ... 2000\n",
      "executing ... 3000\n",
      "executing ... 4000\n",
      "executing ... 5000\n",
      "executing ... 6000\n",
      "executing ... 7000\n",
      "executing ... 8000\n",
      "executing ... 9000\n",
      "executing ... 10000\n",
      "executing ... 11000\n",
      "executing ... 12000\n",
      "executing ... 13000\n",
      "executing ... 14000\n",
      "executing ... 15000\n",
      "executing ... 16000\n",
      "executing ... 17000\n",
      "executing ... 18000\n",
      "executing ... 19000\n",
      "executing ... 20000\n",
      "executing ... 21000\n",
      "executing ... 22000\n",
      "executing ... 23000\n",
      "executing ... 24000\n",
      "executing ... 25000\n",
      "executing ... 26000\n",
      "executing ... 27000\n",
      "executing ... 28000\n",
      "executing ... 29000\n",
      "executing ... 30000\n",
      "executing ... 31000\n",
      "executing ... 32000\n",
      "executing ... 33000\n",
      "executing ... 34000\n",
      "executing ... 35000\n",
      "executing ... 36000\n",
      "executing ... 37000\n",
      "executing ... 38000\n",
      "executing ... 39000\n",
      "executing ... 40000\n",
      "executing ... 41000\n",
      "executing ... 42000\n",
      "executing ... 43000\n",
      "executing ... 44000\n",
      "executing ... 45000\n",
      "executing ... 46000\n",
      "executing ... 47000\n",
      "executing ... 48000\n",
      "executing ... 49000\n",
      "executing ... 50000\n",
      "executing ... 51000\n",
      "executing ... 52000\n",
      "executing ... 53000\n",
      "executing ... 54000\n",
      "executing ... 55000\n",
      "executing ... 56000\n",
      "executing ... 57000\n",
      "executing ... 58000\n",
      "executing ... 59000\n",
      "executing ... 60000\n",
      "executing ... 61000\n",
      "executing ... 62000\n",
      "executing ... 63000\n",
      "executing ... 64000\n",
      "saved file is: /home/maikfangogoair/tmp/save/spect_v25.pkl\n",
      "wanted_list saved to /home/maikfangogoair/tmp/save/wanted_list.pkl\n"
     ]
    }
   ],
   "source": [
    "validation_percentage = 10\n",
    "testing_percentage = 5\n",
    "# silence_percentage = 100\n",
    "silence_percentage = 50\n",
    "unknown_percentage=100\n",
    "all_data = []\n",
    "feature_name = \"spect\"\n",
    "feature_func = {\"spect\": get_spect}[feature_name]\n",
    "train_audio_path = '/home/maikfangogoair/tmp/label_data/'\n",
    "SLIENCE_LABEL = \"silence\"\n",
    "UNKNOWN_LABEL = 'unknown'\n",
    "word_list = [x for x in os.listdir(train_audio_path) if os.path.isdir(train_audio_path + x) and x != '_background_noise_']\n",
    "# wanted_list=word_list.copy()\n",
    "# wanted_list.append(SLIENCE_LABEL)\n",
    "wanted_list = ['silence', 'unknown', 'yes', 'no', 'up', 'down', 'left', 'right', 'on', 'off', 'stop', 'go']\n",
    "\n",
    "\n",
    "cnt=0\n",
    "for folder in word_list:\n",
    "    for filename in os.listdir(train_audio_path + folder):\n",
    "        if filename.endswith('.wav') or filename.endswith('.WAV'):\n",
    "            cnt+=1\n",
    "            group = which_set(filename, validation_percentage, testing_percentage)\n",
    "            path = train_audio_path + folder + \"/\" + filename\n",
    "\n",
    "            if random.randint(1,100) <= silence_percentage:\n",
    "                label_idx = wanted_list.index(SLIENCE_LABEL)\n",
    "                feature = feature_func(path=path, add_noise = True, background_loud=random.uniform(0.01, 0.99), foreground_loud = 0.0, use_white=True)\n",
    "                all_data.append({\"label\": SLIENCE_LABEL, \"label_idx\": label_idx, \"filename\": filename, \\\n",
    "                             \"speaker\": SLIENCE_LABEL+str(cnt), \\\n",
    "                             \"feature\": feature, \\\n",
    "                             \"group\": group})\n",
    "                \n",
    "            if folder not in wanted_list:\n",
    "                label =  UNKNOWN_LABEL\n",
    "                if random.randint(1,100) > unknown_percentage:\n",
    "                    continue;\n",
    "            else:\n",
    "                label = folder\n",
    "            speaker = filename.split('_')[0]\n",
    "            label_idx = wanted_list.index(label)\n",
    "            feature = feature_func(path=path, add_noise = True, background_loud=0 , foreground_loud=random.uniform(0.50, 0.99), use_white=False )\n",
    "            all_data.append({\"label\":label, \"label_idx\": label_idx, \"filename\": filename, \\\n",
    "                             \"speaker\": speaker, \\\n",
    "                             \"feature\": feature, \\\n",
    "                             \"group\": group})\n",
    "\n",
    "            \n",
    "            if cnt % 1000 ==0:\n",
    "                print(\"executing ... %d\" % cnt)\n",
    "\n",
    "#             if cnt > 1000: break\n",
    "\n",
    "\n",
    "random.shuffle(all_data)\n",
    "save_dir = \"/home/maikfangogoair/tmp/save/\"\n",
    "save_feature(all_data , feature_name , save_dir)\n",
    "\n",
    "with io.open(save_dir + \"wanted_list.pkl\", 'wb') as f:\n",
    "    pickle.dump(wanted_list, f)\n",
    "print(\"wanted_list saved to \" + save_dir + \"wanted_list.pkl\")"
   ]
  },
  {
   "cell_type": "code",
   "execution_count": 8,
   "metadata": {},
   "outputs": [
    {
     "data": {
      "text/plain": [
       "{'testing': {'down': 166,\n",
       "  'go': 157,\n",
       "  'left': 160,\n",
       "  'no': 155,\n",
       "  'off': 147,\n",
       "  'on': 161,\n",
       "  'right': 163,\n",
       "  'silence': 2037,\n",
       "  'stop': 157,\n",
       "  'unknown': 2519,\n",
       "  'up': 169,\n",
       "  'yes': 164},\n",
       " 'training': {'down': 1929,\n",
       "  'go': 1955,\n",
       "  'left': 1946,\n",
       "  'no': 1950,\n",
       "  'off': 1954,\n",
       "  'on': 1949,\n",
       "  'right': 1948,\n",
       "  'silence': 26951,\n",
       "  'stop': 1977,\n",
       "  'unknown': 34299,\n",
       "  'up': 1946,\n",
       "  'yes': 1952},\n",
       " 'validation': {'down': 264,\n",
       "  'go': 260,\n",
       "  'left': 247,\n",
       "  'no': 270,\n",
       "  'off': 256,\n",
       "  'on': 257,\n",
       "  'right': 256,\n",
       "  'silence': 3334,\n",
       "  'stop': 246,\n",
       "  'unknown': 4221,\n",
       "  'up': 260,\n",
       "  'yes': 261}}"
      ]
     },
     "execution_count": 8,
     "metadata": {},
     "output_type": "execute_result"
    }
   ],
   "source": [
    "data_statistics = {\"validation\":{},\"testing\":{},\"training\":{}}\n",
    "for x in all_data:\n",
    "    data_statistics[x[\"group\"]][x[\"label\"]] = data_statistics[x[\"group\"]].get(x[\"label\"],0) + 1\n",
    "data_statistics"
   ]
  },
  {
   "cell_type": "code",
   "execution_count": 9,
   "metadata": {},
   "outputs": [
    {
     "name": "stdout",
     "output_type": "stream",
     "text": [
      "There are 34203 different speakers.\n",
      "There are 0 speakers have more than one group.\n",
      "Total wave count is: 97043.\n"
     ]
    }
   ],
   "source": [
    "#check if any speaker in different group?\n",
    "speaker_list = {}\n",
    "for x in all_data:\n",
    "    l = speaker_list.get(x[\"speaker\"], {})\n",
    "    if x[\"group\"] in l.keys():\n",
    "        speaker_list[x[\"speaker\"]][x[\"group\"]] += 1\n",
    "    else:\n",
    "        l[x[\"group\"]] = 1\n",
    "        speaker_list[x[\"speaker\"]] = l\n",
    "print(\"There are %d different speakers.\" % len(speaker_list))\n",
    "print(\"There are %d speakers have more than one group.\" % len([{k,v} for k,v in speaker_list.items() if len(v.items()) > 1]))\n",
    "#check sum\n",
    "summary = 0\n",
    "for _, v in speaker_list.items():\n",
    "    summary = summary + v.get(\"training\",0) + v.get(\"testing\",0) +v.get(\"validation\",0)\n",
    "assert summary == len(all_data)\n",
    "print(\"Total wave count is: %d.\" %  summary  )"
   ]
  },
  {
   "cell_type": "code",
   "execution_count": null,
   "metadata": {},
   "outputs": [],
   "source": [
    "def show_spec(one_line):\n",
    "    fig = plt.figure(figsize=(14, 8))\n",
    "    ax1 = fig.add_subplot(211)\n",
    "    ax1.imshow(np.squeeze(one_line[\"feature\"], axis=0) , aspect='auto', origin='lower')\n",
    "    ax1.set_title(one_line[\"label\"])"
   ]
  },
  {
   "cell_type": "code",
   "execution_count": 10,
   "metadata": {},
   "outputs": [
    {
     "ename": "NameError",
     "evalue": "name 'show_spec' is not defined",
     "output_type": "error",
     "traceback": [
      "\u001b[1;31m---------------------------------------------------------------------------\u001b[0m",
      "\u001b[1;31mNameError\u001b[0m                                 Traceback (most recent call last)",
      "\u001b[1;32m<ipython-input-10-bb96094ff0ef>\u001b[0m in \u001b[0;36m<module>\u001b[1;34m()\u001b[0m\n\u001b[0;32m      1\u001b[0m \u001b[0mone_line\u001b[0m \u001b[1;33m=\u001b[0m \u001b[1;33m[\u001b[0m\u001b[0mx\u001b[0m \u001b[1;32mfor\u001b[0m \u001b[0mx\u001b[0m \u001b[1;32min\u001b[0m \u001b[0mall_data\u001b[0m \u001b[1;32mif\u001b[0m \u001b[0mx\u001b[0m\u001b[1;33m[\u001b[0m\u001b[1;34m\"label\"\u001b[0m\u001b[1;33m]\u001b[0m \u001b[1;33m!=\u001b[0m \u001b[1;34m\"unknown\"\u001b[0m \u001b[1;32mand\u001b[0m \u001b[0mx\u001b[0m\u001b[1;33m[\u001b[0m\u001b[1;34m\"label\"\u001b[0m\u001b[1;33m]\u001b[0m \u001b[1;33m==\u001b[0m \u001b[1;34m\"silence\"\u001b[0m\u001b[1;33m]\u001b[0m\u001b[1;33m[\u001b[0m\u001b[0mrandom\u001b[0m\u001b[1;33m.\u001b[0m\u001b[0mrandint\u001b[0m\u001b[1;33m(\u001b[0m\u001b[1;36m0\u001b[0m\u001b[1;33m,\u001b[0m\u001b[1;36m1000\u001b[0m\u001b[1;33m)\u001b[0m\u001b[1;33m]\u001b[0m\u001b[1;33m\u001b[0m\u001b[0m\n\u001b[1;32m----> 2\u001b[1;33m \u001b[0mshow_spec\u001b[0m\u001b[1;33m(\u001b[0m\u001b[0mone_line\u001b[0m\u001b[1;33m)\u001b[0m\u001b[1;33m\u001b[0m\u001b[0m\n\u001b[0m",
      "\u001b[1;31mNameError\u001b[0m: name 'show_spec' is not defined"
     ]
    }
   ],
   "source": [
    "one_line = [x for x in all_data if x[\"label\"] != \"unknown\" and x[\"label\"] == \"silence\"][random.randint(0,1000)]\n",
    "show_spec(one_line)"
   ]
  },
  {
   "cell_type": "code",
   "execution_count": 53,
   "metadata": {},
   "outputs": [
    {
     "data": {
      "text/html": [
       "\n",
       "                <audio controls=\"controls\" >\n",
       "                    <source src=\"data:audio/x-wav;base64,UklGRiR9AABXQVZFZm10IBAAAAABAAEAgD4AAAB9AAACABAAZGF0YQB9AAAAAAAAAAAAAAAAAAAAAAAAAAAAAAAAAAAAAAAAAAAAAAAAAAAAAAAAAAAAAAAAAAAAAAAAAAAAAAAAAAAAAAAAAAAAAAAAAAAAAAAAAAAAAAAAAAAAAAAAAAAAAAAAAAAAAAAAAAAAAAAAAAAAAAAAAAAAAAAAAAAAAAAAAAAAAAAAAAAAAAAAAAAAAAAAAAAAAAAAAAAAAAAAAAAAAAAAAAAAAAAAAAAAAAAAAAAAAAAAAAAAAAAAAAAAAAAAAAAAAAAAAAAAAAAAAAAAAAAAAAAAAAAAAAAAAAAAAAAAAAAAAAAAAAAAAAAAAAAAAAAAAAAAAAAAAAAAAAAAAAAAAAAAAAAAAAAAAAAAAAAAAAAAAAAAAAAAAAAAAAAAAAAAAAAAAAAAAAAAAAAAAAAAAAAAAAAAAAAAAAAAAAAAAAAAAAAAAAAAAAAAAAAAAAAAAAAAAAAAAAAAAAAAAAAAAAAAAAAAAAAAAAAAAAAAAAAAAAAAAAAAAAAAAAAAAAAAAAAAAAAAAAAAAAAAAAAAAAAAAAAAAAAAAAAAAAAAAAAAAAAAAAAAAAAAAAAAAAAAAAAAAAAAAAAAAAAAAAAAAAAAAAAAAAAAAAAAAAAAAAAAAAAAAAAAAAAAAAAAAAAAAAAAAAAAAAAAAAAAAAAAAAAAAAAAAAAAAAAAAAAAAAAAAAAAAAAAAAAAAAAAAAAAAAAAAAAAAAAAAAAAAAAAAAAAAAAAAAAAAAAAAAAAAAAAAAAAAAAAAAAAAAAAAAAAAAAAAAAAAAAAAAAAAAAAAAAAAAAAAAAAAAAAAAAAAAAAAAAAAAAAAAAAAAAAAAAAAAAAAAAAAAAAAAAAAAAAAAAAAAAAAAAAAAAAAAAAAAAAAAAAAAAAAAAAAAAAAAAAAAAAAAAAAAAAAAAAAAAAAAAAAAAAAAAAAAAAAAAAAAAAAAAAAAAAAAAAAAAAAAAAAAAAAAAAAAAAAAAAAAAAAAAAAAAAAAAAAAAAAAAAAAAAAAAAAAAAAAAAAAAAAAAAAAAAAAAAAAAAAAAAAAAAAAAAAAAAAAAAAAAAAAAAAAAAAAAAAAAAAAAAAAAAAAAAAAAAAAAAAAAAAAAAAAAAAAAAAAAAAAAAAAAAAAAAAAAAAAAAAAAAAAAAAAAAAAAAAAAAAAAAAAAAAAAAAAAAAAAAAAAAAAAAAAAAAAAAAAAAAAAAAAAAAAAAAAAAAAAAAAAAAAAAAAAAAAAAAAAAAAAAAAAAAAAAAAAAAAAAAAAAAAAAAAAAAAAAAAAAAAAAAAAAAAAAAAAAAAAAAAAAAAAAAAAAAAAAAAAAAAAAAAAAAAAAAAAAAAAAAAAAAAAAAAAAAAAAAAAAAAAAAAAAAAAAAAAAAAAAAAAAAAAAAAAAAAAAAAAAAAAAAAAAAAAAAAAAAAAAAAAAAAAAAAAAAAAAAAAAAAAAAAAAAAAAAAAAAAAAAAAAAAAAAAAAAAAAAAAAAAAAAAAAAAAAAAAAAAAAAAAAAAAAAAAAAAAAAAAAAAAAAAAAAAAAAAAAAAAAAAAAAAAAAAAAAAAAAAAAAAAAAAAAAAAAAAAAAAAAAAAAAAAAAAAAAAAAAAAAAAAAAAAAAAAAAAAAAAAAAAAAAAAAAAAAAAAAAAAAAAAAAAAAAAAAAAAAAAAAAAAAAAAAAAAAAAAAAAAAAAAAAAAAAAAAAAAAAAAAAAAAAAAAAAAAAAAAAAAAAAAAAAAAAAAAAAAAAAAAAAAAAAAAAAAAAAAAAAAAAAAAAAAAAAAAAAAAAAAAAAAAAAAAAAAAAAAAAAAAAAAAAAAAAAAAAAAAAAAAAAAAAAAAAAAAAAAAAAAAAAAAAAAAAAAAAAAAAAAAAAAAAAAAAAAAAAAAAAAAAAAAAAAAAAAAAAAAAAAAAAAAAAAAAAAAAAAAAAAAAAAAAAAAAAAAAAAAAAAAAAAAAAAAAAAAAAAAAAAAAAAAAAAAAAAAAAAAAAAAAAAAAAAAAAAAAAAAAAAAAAAAAAAAAAAAAAAAAAAAAAAAAAAAAAAAAAAAAAAAAAAAAAAAAAAAAAAAAAAAAAAAAAAAAAAAAAAAAAAAAAAAAAAAAAAAAAAAAAAAAAAAAAAAAAAAAAAAAAAAAAAAAAAAAAAAAAAAAAAAAAAAAAAAAAAAAAAAAAAAAAAAAAAAAAAAAAAAAAAAAAAAAAAAAAAAAAAAAAAAAAAAAAAAAAAAAAAAAAAAAAAAAAAAAAAAAAAAAAAAAAAAAAAAAAAAAAAAAAAAAAAAAAAAAAAAAAAAAAAAAAAAAAAAAAAAAAAAAAAAAAAAAAAAAAAAAAAAAAAAAAAAAAAAAAAAAAAAAAAAAAAAAAAAAAAAAAAAAAAAAAAAAAAAAAAAAAAAAAAAAAAAAAAAAAAAAAAAAAAAAAAAAAAAAAAAAAAAAAAAAAAAAAAAAAAAAAAAAAAAAAAAAAAAAAAAAAAAAAAAAAAAAAAAAAAAAAAAAAAAAAAAAAAAAAAAAAAAAAAAAAAAAAAAAAAAAAAAAAAAAAAAAAAAAAAAAAAAAAAAAAAAAAAAAAAAAAAAAAAAAAAAAAAAAAAAAAAAAAAAAAAAAAAAAAAAAAAAAAAAAAAAAAAAAAAAAAAAAAAAAAAAAAAAAAAAAAAAAAAAAAAAAAAAAAAAAAAAAAAAAAAAAAAAAAAAAAAAAAAAAAAAAAAAAAAAAAAAAAAAAAAAAAAAAAAAAAAAAAAAAAAAAAAAAAAAAAAAAAAAAAAAAAAAAAAAAAAAAAAAAAAAAAAAAAAAAAAAAAAAAAAAAAAAAAAAAAAAAAAAAAAAAAAAAAAAAAAAAAAAAAAAAAAAAAAAAAAAAAAAAAAAAAAAAAAAAAAAAAAAAAAAAAAAAAAAAAAAAAAAAAAAAAAAAAAAAAAAAAAAAAAAAAAAAAAAAAAAAAAAAAAAAAAAAAAAAAAAAAAAAAAAAAAAAAAAAAAAAAAAAAAAAAAAAAAAAAAAAAAAAAAAAAAAAAAAAAAAAAAAAAAAAAAAAAAAAAAAAAAAAAAAAAAAAAAAAAAAAAAAAAAAAAAAAAAAAAAAAAAAAAAAAAAAAAAAAAAAAAAAAAAAAAAAAAAAAAAAAAAAAAAAAAAAAAAAAAAAAAAAAAAAAAAAAAAAAAAAAAAAAAAAAAAAAAAAAAAAAAAAAAAAAAAAAAAAAAAAAAAAAAAAAAAAAAAAAAAAAAAAAAAAAAAAAAAAAAAAAAAAAAAAAAAAAAAAAAAAAAAAAAAAAAAAAAAAAAAAAAAAAAAAAAAAAAAAAAAAAAAAAAAAAAAAAAAAAAAAAAAAAAAAAAAAAAAAAAAAAAAAAAAAAAAAAAAAAAAAAAAAAAAAAAAAAAAAAAAAAAAAAAAAAAAAAAAAAAAAAAAAAAAAAAAAAAAAAAAAAAAAAAAAAAAAAAAAAAAAAAAAAAAAAAAAAAAAAAAAAAAAAAAAAAAAAAAAAAAAAAAAAAAAAAAAAAAAAAAAAAAAAAAAAAAAAAAAAAAAAAAAAAAAAAAAAAAAAAAAAAAAAAAAAAAAAAAAAAAAAAAAAAAAAAAAAAAAAAAAAAAAAAAAAAAAAAAAAAAAAAAAAAAAAAAAAAAAAAAAAAAAAAAAAAAAAAAAAAAAAAAAAAAAAAAAAAAAAAAAAAAAAAAAAAAAAAAAAAAAAAAAAAAAAAAAAAAAAAAAAAAAAAAAAAAAAAAAAAAAAAAAAAAAAAAAAAAAAAAAAAAAAAAAAAAAAAAAAAAAAAAAAAAAAAAAAAAAAAAAAAAAAAAAAAAAAAAAAAAAAAAAAAAAAAAAAAAAAAAAAAAAAAAAAAAAAAAAAAAAAAAAAAAAAAAAAAAAAAAAAAAAAAAAAAAAAAAAAAAAAAAAAAAAAAAAAAAAAAAAAAAAAAAAAAAAAAAAAAAAAAAAAAAAAAAAAAAAAAAAAAAAAAAAAAAAAAAAAAAAAAAAAAAAAAAAAAAAAAAAAAAAAAAAAAAAAAAAAAAAAAAAAAAAAAAAAAAAAAAAAAAAAAAAAAAAAAAAAAAAAAAAAAAAAAAAAAAAAAAAAAAAAAAAAAAAAAAAAAAAAAAAAAAAAAAAAAAAAAAAAAAAAAAAAAAAAAAAAAAAAAAAAAAAAAAAAAAAAAAAAAAAAAAAAAAAAAAAAAAAAAAAAAAAAAAAAAAAAAAAAAAAAAAAAAAAAAAAAAAAAAAAAAAAAAAAAAAAAAAAAAAAAAAAAAAAAAAAAAAAAAAAAAAAAAAAAAAAAAAAAAAAAAAAAAAAAAAAAAAAAAAAAAAAAAAAAAAAAAAAAAAAAAAAAAAAAAAAAAAAAAAAAAAAAAAAAAAAAAAAAAAAAAAAAAAAAAAAAAAAAAAAAAAAAAAAAAAAAAAAAAAAAAAAAAAAAAAAAAAAAAAAAAAAAAAAAAAAAAAAAAAAAAAAAAAAAAAAAAAAAAAAAAAAAAAAAAAAAAAAAAAAAAAAAAAAAAAAAAAAAAAAAAAAAAAAAAAAAAAAAAAAAAAAAAAAAAAAAAAAAAAAAAAAAAAAAAAAAAAAAAAAAAAAAAAAAAAAAAAAAAAAAAAAAAAAAAAAAAAAAAAAAAAAAAAAAAAAAAAAAAAAAAAAAAAAAAAAAAAAAAAAAAAAAAAAAAAAAAAAAAAAAAAAAAAAAAAAAAAAAAAAAAAAAAAAAAAAAAAAAAAAAAAAAAAAAAAAAAAAAAAAAAAAAAAAAAAAAAAAAAAAAAAAAAAAAAAAAAAAAAAAAAAAAAAAAAAAAAAAAAAAAAAAAAAAAAAAAAAAAAAAAAAAAAAAAAAAAAAAAAAAAAAAAAAAAAAAAAAAAAAAAAAAAAAAAAAAAAAAAAAAAAAAAAAAAAAAAAAAAAAAAAAAAAAAAAAAAAAAAAAAAAAAAAAAAAAAAAAAAAAAAAAAAAAAAAAAAAAAAAAAAAAAAAAAAAAAAAAAAAAAAAAAAAAAAAAAAAAAAAAAAAAAAAAAAAAAAAAAAAAAAAAAAAAAAAAAAAAAAAAAAAAAAAAAAAAAAAAAAAAAAAAAAAAAAAAAAAAAAAAAAAAAAAAAAAAAAAAAAAAAAAAAAAAAAAAAAAAAAAAAAAAAAAAAAAAAAAAAAAAAAAAAAAAAAAAAAAAAAAAAAAAAAAAAAAAAAAAAAAAAAAAAAAAAAAAAAAAAAAAAAAAAAAAAAAAAAAAAAAAAAAAAAAAAAAAAAAAAAAAAAAAAAAAAAAAAAAAAAAAAAAAAAAAAAAAAAAAAAAAAAAAAAAAAAAAAAAAAAAAAAAAAAAAAAAAAAAAAAAAAAAAAAAAAAAAAAAAAAAAAAAAAAAAAAAAAAAAAAAAAAAAAAAAAAAAAAAAAAAAAAAAAAAAAAAAAAAAAAAAAAAAAAAAAAAAAAAAAAAAAAAAAAAAAAAAAAAAAAAAAAAAAAAAAAAAAAAAAAAAAAAAAAAAAAAAAAAAAAAAAAAAAAAAAAAAAAAAAAAAAAAAAAAAAAAAAAAAAAAAAAAAAAAAAAAAAAAAAAAAAAAAAAAAAAAAAAAAAAAAAAAAAAAAAAAAAAAAAAAAAAAAAAAAAAAAAAAAAAAAAAAAAAAAAAAAAAAAAAAAAAAAAAAAAAAAAAAAAAAAAAAAAAAAAAAAAAAAAAAAAAAAAAAAAAAAAAAAAAAAAAAAAAAAAAAAAAAAAAAAAAAAAAAAAAAAAAAAAAAAAAAAAAAAAAAAAAAAAAAAAAAAAAAAAAAAAAAAAAAAAAAAAAAAAAAAAAAAAAAAAAAAAAAAAAAAAAAAAAAAAAAAAAAAAAAAAAAAAAAAAAAAAAAAAAAAAAAAAAAAAAAAAAAAAAAAAAAAAAAAAAAAAAAAAAAAAAAAAAAAAAAAAAAAAAAAAAAAAAAAAAAAAAAAAAAAAAAAAAAAAAAAAAAAAAAAAAAAAAAAAAAAAAAAAAAAAAAAAAAAAAAAAAAAAAAAAAAAAAAAAAAAAAAAAAAAAAAAAAAAAAAAAAAAAAAAAAAAAAAAAAAAAAAAAAAAAAAAAAAAAAAAAAAAAAAAAAAAAAAAAAAAAAAAAAAAAAAAAAAAAAAAAAAAAAAAAAAAAAAAAAAAAAAAAAAAAAAAAAAAAAAAAAAAAAAAAAAAAAAAAAAAAAAAAAAAAAAAAAAAAAAAAAAAAAAAAAAAAAAAAAAAAAAAAAAAAAAAAAAAAAAAAAAAAAAAAAAAAAAAAAAAAAAAAAAAAAAAAAAAAAAAAAAAAAAAAAAAAAAAAAAAAAAAAAAAAAAAAAAAAAAAAAAAAAAAAAAAAAAAAAAAAAAAAAAAAAAAAAAAAAAAAAAAAAAAAAAAAAAAAAAAAAAAAAAAAAAAAAAAAAAAAAAAAAAAAAAAAAAAAAAAAAAAAAAAAAAAAAAAAAAAAAAAAAAAAAAAAAAAAAAAAAAAAAAAAAAAAAAAAAAAAAAAAAAAAAAAAAAAAAAAAAAAAAAAAAAAAAAAAAAAAAAAAAAAAAAAAAAAAAAAAAAAAAAAAAAAAAAAAAAAAAAAAAAAAAAAAAAAAAAAAAAAAAAAAAAAAAAAAAAAAAAAAAAAAAAAAAAAAAAAAAAAAAAAAAAAAAAAAAAAAAAAAAAAAAAAAAAAAAAAAAAAAAAAAAAAAAAAAAAAAAAAAAAAAAAAAAAAAAAAAAAAAAAAAAAAAAAAAAAAAAAAAAAAAAAAAAAAAAAAAAAAAAAAAAAAAAAAAAAAAAAAAAAAAAAAAAAAAAAAAAAAAAAAAAAAAAAAAAAAAAAAAAAAAAAAAAAAAAAAAAAAAAAAAAAAAAAAAAAAAAAAAAAAAAAAAAAAAAAAAAAAAAAAAAAAAAAAAAAAAAAAAAAAAAAAAAAAAAAAAAAEAAAAAAAAAAAD///7/AAAAAAEAAgACAAEAAAAAAP///v/+////AAACAAMAAwACAAEA///9//3//f///wAAAgADAAMAAwABAAAA/v/8//3///8AAAEAAwAEAAMAAQD///7//P/8//7/AAABAAMAAwADAAEAAAD+//3//f/+/wAAAQADAAMAAgABAAAA///+//7/AAAAAAEAAgACAAEAAAAAAP///v///wAAAAABAAIAAgABAAAA///+//7///8AAAAAAQACAAEAAAAAAAAA/////wAAAAAAAAEAAQABAAAAAAD/////AAAAAAAAAAABAAAAAAAAAAAAAAAAAAAAAAAAAAAAAAAAAAAAAAAAAAAAAAAAAAAAAAAAAP///////wAAAAABAAMAAgABAAAA/v/9//z//v8AAAIABAAGAAQAAQD///v/+f/5//z/AAAEAAkACwAIAAMA/v/4//T/9f/5/wAABwANAA8ADAAEAPz/9P/v//H/9/8AAAoAEQASAA0ABAD6//H/7v/v//f/AAAJABAAEQANAAQA/P/0/+//8f/3////BwANAA8ADAAFAP7/9//z//P/9//+/wMACAALAAoABgABAPz/+P/3//j//f8AAAQABwAIAAYAAgD///z/+v/6//z///8BAAQABQAGAAQAAQAAAPz/+//6//3///8BAAQABQAFAAMAAAD+//v/+//8////AQAEAAUABQADAAEA/v/7//z//P///wAAAgAEAAQAAgAAAP7//f/8//7/AAABAAIAAwACAAEAAAD///7//v///wAAAAACAAEAAAAAAAAA/////wAAAAAAAAAAAAAAAAAAAAAAAAAAAAAAAAAAAAAAAAAAAAAAAAAAAAAAAAAAAAAAAP////8AAAAAAAAAAAEAAQAAAAAAAAD/////AAAAAAAAAQABAAEAAAAAAP///v///wAAAAABAAEAAgABAAAAAAD///////8AAAAAAQABAAEAAAAAAAAA/////wAAAAAAAAAAAAAAAAAAAAAAAAAAAAAAAAAAAAAAAAAAAAAAAAAAAAAAAAAAAAAAAAAAAAAAAAAAAAABAAAAAAAAAP///////wAAAAAAAAEAAAAAAAAAAAAAAP//AAAAAAAAAQABAAAAAAAAAAAA/////wAAAAABAAEAAQAAAAAA///+////AAAAAAEAAgACAAEAAAAAAP///////wAAAAAAAAIAAgABAAAAAAD///////8AAAAAAAABAAEAAQAAAAAAAAD/////AAAAAAAAAAABAAAAAAAAAAAAAAAAAAAAAAAAAAAAAAAAAAAAAAAAAAAAAAAAAAAA/////wAAAAAAAAAAAQAAAAAAAAD//////////wAAAAAAAAAAAQABAAAAAAAAAP///////wAAAAAAAAEAAQAAAAAAAAAAAP///////wAAAAAAAAEAAQABAAEAAAAAAP////8AAAAAAQACAAEAAQAAAAAAAAAAAAAAAAAAAAAAAQABAAAAAAAAAAAAAAAAAAAAAAAAAAAAAAAAAAAAAAAAAAAAAAAAAAAAAAAAAAAAAAAAAAAAAAAAAAAAAAAAAAAAAAAAAAAAAAAAAAAAAAAAAAAAAAAAAAAAAAAAAAAAAAAAAAAAAAAAAAAAAAAAAAAAAAAAAAAAAAAAAAAAAAAAAAAAAAAAAAAAAAAAAAAAAAABAAAAAAAAAAAAAAD//wAAAAAAAAAAAQABAAAAAAAAAAAA/////wAAAAAAAAAAAQAAAAAAAAAAAAAA/////wAAAAAAAAAAAQAAAAAAAAAAAAAA//8AAAAAAAABAAEAAAAAAAAAAAD//wAAAAAAAAAAAAAAAAEAAAAAAAAAAAAAAAAAAAAAAAAAAAAAAAAAAAAAAAAAAAAAAAAAAAAAAAAAAAAAAAAAAAAAAAAAAAAAAAAAAAAAAAEAAAAAAAAA//8AAP//AAAAAAAAAQABAAAAAAAAAP//AAAAAAAAAAAAAAEAAAAAAAAAAAAAAAAAAAAAAAAAAAAAAAAAAAAAAAAAAAAAAAAAAAAAAAAAAAAAAAAAAAAAAAAAAAAAAAAAAAAAAAAAAAAAAAAAAAAAAAAAAAAAAAAAAAAAAAAAAAAAAAAAAAAAAAAAAAAAAAAAAAAAAAAAAAAAAAAAAAAAAAAAAAAAAAAAAAAAAAAAAAAAAAAAAAAAAAAAAAAAAAAAAAAAAAAAAAAAAAAAAAAAAAAAAAAAAAAAAAAAAAAAAAAAAAAAAAAAAAAAAAAAAAAAAAAAAAAAAAAAAAAAAAAAAAAAAAAAAAAAAAAAAAAAAAAAAAAAAAAAAAAAAAAAAAAAAAAAAAAAAAAAAAAAAAAAAAAAAAAAAAAAAAAAAAAAAAAAAAAAAAAAAAAAAAAAAAAAAAAAAAAAAAAAAAAAAAAAAAAAAAAAAAAAAAAAAAAAAAAAAAAAAAAAAAAAAAAAAAAAAAAAAAAAAAAAAAAAAAAAAAAAAAAAAAAAAAAAAAAAAAAAAAAAAQAAAAAAAAAAAAAAAAAAAAAAAAAAAAAAAAAAAAAAAAAAAAAAAAAAAAAAAAAAAAAAAAAAAAAAAAAAAAAAAAAAAAAAAAAAAAAAAAAAAAAAAAAAAAAAAAAAAAAAAAAAAAAAAAAAAAAAAAAAAAAAAAAAAAAAAAAAAAAAAAAAAAAAAAAAAAAAAAAAAAAAAAAAAAAAAAAAAAAAAAAAAAAAAAAAAAAAAAAAAAAAAAAAAAAAAAAAAAAAAAAAAAAAAAAAAAAAAAAAAAAAAAAAAAAAAAAAAAAAAAAAAAAAAAAAAAAAAAAAAAAAAAAAAAAAAAAAAAAAAAAAAAAAAAAAAAAAAAAAAAAAAAAAAAAAAAAAAAAAAAAAAAAAAAAAAAAAAAAAAAAAAAAAAAAAAAAAAAAAAAAAAAAAAAAAAAAAAAAAAAAAAAAAAAAAAAAAAAAAAAAAAAAAAAAAAAAAAAAAAAAAAAAAAAAAAAAAAAAAAAAAAAAAAAAAAAAAAAAAAAAAAAAAAAAAAAAAAAAAAAAAAAAAAAAAAAAAAAAAAAAAAAAAAAAAAAAAAAAAAAAAAAAAAAAAAAAAAAAAAAAAAAAAAAAAAAAAAAAAAAAAAAAAAAAAAAAAAAAAAAAAAAAAAAAAAAAAAAAAAAAAAAAAAAAAAAAAAAAAAAAAAAAAAAAAAAAAAAAAAAAAAAAAAAAAAAAAAAAAAAAAAAAAAAAAAAAAAAAAAAAAAAAAAAAAAAAAAAAAAAAAAAAAAAAAAAAAAAAAAAAAAAAAAAAAAAAAAAAAAAAAAAAAAAAAAAAAAAAAAAAAAAAAAAAAAAAAAAAAAAAAAAAAAAAAAAAAAAAAAAAAAAAAAAAAAAAAAAAAAAAAAAAAAAAAAAAAAAAAAAAAAAAAAAAAAAAAAAAAAAAAAAAAAAAAAAAAAAAAAAAAAAAAAAAAAAAAAAAAAAAAAAAAAAAAAAAAAAAAAAAAAAAAAAAAAAAAAAAAAAAAAAAAAAAAAAAAAAAAAAAAAAAAAAAAAAAAAAAAAAAAAAAAAAAAAAAAAAAAAAAAAAAAAAAAAAAAAAAAAAAAAAAAAAAAAAAAAAAAAAAAAAAAAAAAAAAAAAAAAAAAAAAAAAAAAAAAAAAAAAAAAAAAAAAAAAAAAAAAAAAAAAAAAAAAAAAAAAAAAAAAAAAAAAAAAAAAAAAAAAAAAAAAAAAAAAAAAAAAAAAAAAAAAAAAAAAAAAAAAAAAAAAAAAAAAAAAAAAAAAAAAAAAAAAAAAAAAAAAAAAAAAAAAAAAAAAAAAAAAAAAAAAAAAAAAAAAAAAAAAAAAAAAAAAAAAAAAAAAAAAAAAAAAAAAAAAAAAAAAAAAAAAAAAAAAAABAAAAAAAAAAAAAAAAAAAAAAAAAAAAAAAAAAAAAAABAAEAAAAAAAEAAAAAAAAAAAAAAAAAAAAAAAAAAAAAAAAAAAAAAP////8AAAAAAAAAAAEAAQACAAIAAgABAAAAAAD///7//f/9//7///8AAAAAAAABAAIAAgABAAAAAAAAAAAAAAAAAAAAAAAAAAAAAAAAAAAAAAAAAAAAAAAAAAAAAAAAAAAAAAAAAAAAAAAAAAAAAAAAAAAA///+//7//f/+//7///8AAAAAAQACAAMAAwADAAIAAQAAAP///v/9//z//f/+//7///8AAAAAAgADAAMABAAEAAMAAgABAAAAAAAAAP///v/+//3//f/+////AAACAAUABwAJAAkABwAEAAAA/P/4//X/8v/z//T/+P/9/wEABgAJAAoACgAIAAUAAgD///3/+//7//z//v8AAAAAAQACAAEAAQAAAAAAAAAAAAAAAAABAAAAAAD+//z/+//7//7/AQAHAA8AFgAaABsAFwAOAAIA9f/l/9r/1f/V/9z/6f/6/wsAGwAnACwAKgAiABQABAD2/+n/4v/e/+L/6P/x//r/AAAFAAcABwAFAAIAAQABAAQABwAKAA0ADQAJAAMA/f/1/+3/6P/m/+n/8P/6/wQADgAXABwAHQAYAA8ABQD8//P/7f/s//D/9//+/wYADAAQAA8ACwAEAP3/9v/w/+3/7v/z//r/AgAJAA8AEwASAA4ACAACAP7/+f/2//f/+P/9/wAAAQADAAIAAAD///z/+v/5//v//v8BAAcADAAPAA8ADgAKAAQA///6//X/8//0//f//P8AAAMABgAHAAcABAABAP///f/8//z//v8AAAEABAAGAAYABAABAP7/+//4//f/9v/4//z///8DAAUABwAIAAYAAgAAAP3/+v/5//n//P/+/wEABAAHAAcABwAFAAEA///9//r/+f/6//v///8AAAIABQAGAAYABgAEAAIAAAAAAP///v///wAA//////////////7//f/9//7//v///wAAAgADAAQABAAEAAMAAQAAAP///v/9//3//v//////AAAAAAAAAAAAAAAAAAAAAAAAAAACAAMABAAEAAMAAgAAAAAAAAAAAAAA////////AAD//wAAAAD//wAAAAAAAAAAAAABAAAAAQABAAEAAAAAAAAAAAAAAP///////wAAAAAAAAAAAAAAAAAAAAAAAAAAAAAAAAAAAAD/////AAAAAAAAAAAAAAAAAAAAAAAAAQAAAAIAAQABAAEAAAAAAAAAAAAAAAAA///+//7//v/+////AAAAAAAAAQABAAEAAQAAAAAAAAAAAAAAAAAAAAAAAAAAAAAAAAAAAAAAAAD///////////////8AAAAAAAAAAAAAAQACAAMAAwACAAIAAQAAAAAA///+//3//f/+//7///8AAAAAAAAAAAEAAQABAAEAAAAAAAAA/////////////wAAAAAAAAAAAQABAAEAAAAAAP///v/+//7//v///wAAAQACAAMAAwADAAIAAQAAAAAA///+//7//v//////AAAAAAEAAgACAAMAAwADAAIAAAAAAP///v/8//z//f//////AAABAAEAAwACAAIAAQAAAAAAAAAAAAAAAAAAAAAAAAAAAAAAAAAAAAAAAAAAAAAAAAAAAAAAAAAAAAAAAAAAAAAAAAAAAAAAAAAAAAAAAAAAAAAAAAAAAAAAAAAAAAAAAAAAAP////8AAAAAAAAAAAAAAQABAAEAAQAAAAAAAAAAAAAAAAAAAP//AAAAAAAAAAAAAAAAAAAAAAAAAAAAAAAAAAAAAAAA/v/+//7//v/+//7/AAAAAAAAAQABAAIAAgACAAIAAQABAAAAAAAAAAAA/////////v////7//v///wAAAAAAAAIAAwADAAMAAwACAAAAAAAAAP/////+//7///8AAAAAAAAAAAAAAAAAAAAA/////wAAAAAAAAAAAQACAAIAAgACAAEAAQAAAP////////7///8AAAAAAQABAAAAAAAAAAAAAAAAAAAAAAAAAAAAAAAAAAAAAAAAAAAAAAAAAAAAAAABAAIAAgACAAIAAQAAAP///v/9//3//v///wAAAAACAAIAAQABAAAAAAD+//3//f///wAAAAACAAMABQAGAAUABAAEAAQAAwABAP///v/8//r/+v/6//z//v8AAAAAAQABAAAAAAAAAP///v/+//7///8AAAAAAQACAAIAAgABAAAA///+//7//v/9//z//v//////AAAAAAEAAgACAAIAAgABAAEAAQABAAIAAgABAAAAAAAAAAAA//8AAAAAAQABAAEAAgABAAAAAAAAAAAAAAAAAAEAAgADAAIAAQAAAP///v/8//r//P8AAAAAAQACAAMABQADAAEAAAD///3//P/6//n/+v/6//n/+f/7//3///8AAAIABQAIAAkACAAGAAQAAwABAAAA/////wAAAAAAAAAAAQACAAIAAQAAAP///f/7//r/+//+/wAABAAIAAwADgANAAsACAADAAAA/P/3//T/8f/y//T/+f/+/wMACQAPABMAEwAPAAgAAgD6//L/6//p/+r/7v/0//3/BQAMABIAFgAXABIACAD///f/7P/k/+D/4v/l/+z/9/8EAA4AFgAbAB4AGwARAAUA/f/1/+z/6P/r//L/+f8BAAoAEQATABEADQAIAAIA///9//v//P/7//z//P/8//z//P/8//z//P/9//7///8AAAUACwAOAA0ADQAOAAoAAwD9//n/9v/z//T/+v///wEABAAJAAsABwAAAPz/+f/2//H/8v/3//v//v8AAAQABgAEAAQABwAJAAcABAACAP///P/4//P/7//s/+v/7v/y//j/AAAKABQAHQAnACwAKwAkABkADgD+/+3/4//i/+P/5P/x/wUAFAAcACUALwAzAC0AIAARAP7/6v/d/9X/0P/N/9D/2P/k/+7/9////wUADAANAAYA/P/x/+f/3v/V/9L/1//i/+z/9f/9/wMACQAHAP//9f/w//P/+P/9/wAABgAOABgAIAAgABoAFwAbACwAWwC4ADEBqwE2AtQCFwNvAvQAZP8N/o782/rU+Uj61fuU/WD/nAECBJgF6wVlBWsE2wK0AIz+A/0x/NX75PuJ/Ln9Ev8jAL8AFAFWAXYBQQHfAMgAHQFzAXkBYwFZAfgA8f+h/p394fwn/Lr7Lfx0/fP+agAMAqkDnQSiBBQEMQPUARIAcv5c/cH8gfzH/Jv9qP6f/3oANQGQAXEBFwHIAH0AIQDT/8H/4P/+/wIA6v+//5X/ef9k/1n/e//g/2IA0gAiAVgBXAEYAaUAKACj/yv/Ef+L/2wAfAG9AhwECgXTBHEDggFl//n8ZvqK+Cz4Lvn8+lf9PgBFA6AFzgbgBg8GbwQkAqj/kP0w/IX7ZvvP+8f8Ff5A//D/PQBsAIcAdQBRAG8A6AB3AdQB/AHxAW8BQgC2/lf9T/xv+976J/t1/En+IgD7AcYDCAVYBdgE3gOOAjIBTwAbAHgAtAEJBBEGlgWrAs//4v2/+pP1zfHW8v/2ePpl/ZUCaQnEDfkNZAylCkcHfwGp+yX4hPZ79Xz1jvc0++D+kAEjA+8DZARpBF8DkgGmAGIBSwIPAr0BcwKQAjUA3Pwa+2j6pvjF9rf3ZPvY/kwBqgTZCAQLGwovCG4GbAO4/qH64/h3+Df4AvmU+7X+DAHEAi4EjQSAA/gB2QDh/7/+B/5U/k7/QQDXAP8AuwBHALv/2P6k/dj8HP0e/iL/DAAsAV0CDAP6AlMCSgEUAA3/Z/4T/hz+uv7Y/+8ApgERAjcC6QE+AaUASgD7/77/9f+oAEoBeQFjAS0BpgC6/6X+sf36/Kj89fzM/cn+u//HANgBfgJvAt0BFgE0AEj/fv75/cf9+/2h/n3/OgC6AB8BcAF5AR0BggD1/6H/d/9f/1z/lP8oABkBUQKtAxAFjgY1CEAJGwg+BEr/HPty9ynzcO9C71Lz7fjs/SUDcAnVDr8QUw9oDHkICQMD/VT4ovU+9PzzaPVQ+J/7fv62AEkCWAMbBHcEKgSsA9gDbwQ2BOACVwHX/2z9Afo29yf2HvZ09gv4lvvw/6cDqQYgCSQK8QhaBpMDnQBI/aH63Pml+vf7sv0VAJsCiwTtBQcHzQdwCDwJNwmUBosBpfwZ+UH1ZPB17XDv0vQU+ur+aAXhDK8RLhJSEK0NLwk0AuT6zPUG82Xx/PDV8vn2AfxfAJgDMAaBCNQJMgkZBzwFMwS/AjsA//35/Mj7H/l29ub15/ao9374OPu2/+MD0QYnCcAKWQrWB40EOgGK/fP5Fvio+JP6vPxV/8kCaAYJCaMKOgzSDWMNGQlBAhX8cPc28iPsLel/7H/zlfnC/gMGjQ6lE2gT0BAmDvEJ/gKr+872O/SB8tTxPvOE9m76GP4uAccDPwZzCF8JoQiJByoHSgZZA2X/hfxW+gn3XPMo8gr0t/b4+Cr8BwHJBbUI+QkbCrIIsQU/Aif/IvyR+RT5Nvs9/qEACANOBmsJBQu2C28MswtdB5oAxvpv9jzxWesZ6RrtJ/QF+nj/ZwdEEB0VdxR7EVoOqAlYArr6kfXW8j/x6vCt8iv2LvoB/oYBngQVB60INAnUCB0INweDBcAC3P95/bT61vZV81jy0fP09Sv4pfvBAM8FIQmkCswKcgmPBvACdv9R/OL5Pfnk+tH9qABTA2EGkAkVDI0NdA3JCmcF+v4w+bDz4e3U6arqJfDj9hz9BwQXDIoSmBTYEnAP1gqLBIT9yfc99FbyxvHr8q71KfmM/KP/jAImBf8GzQfYB6sHQwf8BZgDywAv/mb7Efjy9Gvz6PPH9Zr4aPzdADoFtQisCq4KyAi/BXwCZP+g/Mr6tfp6/Fn/hQK+BRgJagyWDvAN+wkTBNb9kfcF8XXrhelO7ALyoPjh/6UHbA5GEpwSYRBvDPsGwwAh+wf3rvT+87r0i/YQ+cH7/P2C/70AHwKCA28E+gS/BZoGewb+BNkCYwA0/Wj5NvbK9CL1i/YO+fn8igFtBQgIXQlICaoHDQVmAjMAkf7+/Sr/ygGyBHUHLQquCykKpAX6/3j61fRG7yvsp+2d8o342P7SBVcMNhB/EBsOMwoDBen+U/mz9VL0lfTj9Rr4P/uw/i4BNAKoAmAD3wNtA5UCfQIlA1ADdQJfAWIAr/4Q/LD5vPgy+Vn6+ft3/poBOgSGBasFHQX2Ay8CKwCs/kj+Bv+sAA0DuQUpCEAKmAsHC9MHxAJW/T74X/ND78TtFfAb9f36AQELB1QMcw93D7gMWgg0A7r9pvgC9YDzBvTB9Qz4DvuX/ogBLwMdBAIFmgVDBTQEagMUAzgCfACj/gj9QPs9+d338fdi+Z/7fP4EAooF6wfBCD8IdQahA3YAu/0A/ID7Wfyz/jUC/gVVCa4LOwxmCl8GDwF0+y322vGj73Hw4vPG+Cr+ngOKCMkLewziCvIHSQQxAFP8n/ll+C74jfh6+fX6mfz6/TH/iQDcAcQCPQOdA+4D6ANFAxcCtAAt/2T9lvtY+gn6ivqa+yT9MP9+AW4DpARdBdAFxgUSBfYD0gLbAQcBKwBy/zP/Wf+Y/9n/AAA2ANMAhgG8AXcB6AA7AK3/9f7S/dP8e/zJ/Jb9ef41/1oAJAKfA+0DNwMsAi4B3P+4/Wj7HPrs+Un6Fftl/C7+SAAfAisDcwMAA90BfwAC/0v9/vux+z38Yv3J/hwAgAHWAoIDeAMHAz0CYgHvAAcBwQEuAzcFVgisDOsPNw97CtYDsPyO9FXrIeRH49zoQfGV+ioFKRCqGMYbNRkDE6UKqwDD9lDviOt364ruwfMo+qQArgVxCF4J4AjqBtoDpgBs/n/98Pw//GP8kv0z/kL9o/vm+o37hvwU/SP+YQDvAuYE9AXXBcMEfQN7AqoB+ADNAOsBSQSWBmoItgqzDPgLBQhsAmD8yvWZ7tzozOen69nxS/lUAuULnxNVF3MWWBJEDG0Ezvt79PDva+5Z7/7xHPZN+yYAnAMHBqIH0geDBqsEMAMRApUAs/6R/WX9rfy/+tL4P/go+ZX67vv2/RkBNQQ7BhwH9Ab7BacELgPCAbsAXQAYAfoCFAUeB8sJNgwLDI4IGQNC/VL3rvCx6tnoNuxT8j/5AwGZCV4RhRXRFPoQtgvmBO38w/U48brvgfCg8hP20/qJ/+oCAgU8BpYG7gVtBNYC1wH4AI//Pf6p/Qn9Yvse+dz3lPg3+pT7b/2uAGQE7QawB0IHZgYhBVUDvAEKAU4BgQKXBHgH4wqADVQN0AkXBGX9Ovb77kDpjefF6lHxZfk5AhcLixKyFlgWGBKTC+AD0/vD9Bjwiu6875PygfZf+w0AVgNHBVMGcwaeBS4E5AIpAkwB5f/W/mr+df1G+9T4mPcQ+FP5mvqe/AYAsgM/Bm0HdgetBmMFnQO5AZUAggBTAd0C0gRRB6kKcA1ADbYJVwRI/pz3a/BU6kToQOtP8Z340QBjCdoQOhU1FXsRvwvUBEH9b/bH8dPvW/Cg8g72Yvqu/uQBFwSwBWYGBwYPBQwELAMRAlYAm/57/UL8O/op+FD3Gfj5+RL8Uf4uASYEIQbNBkgG2wQ1A9QB0gB1AO4AOAI9BGUGPwhDCjIMSAxaCUIEmP7l+Lfyw+zL6aTr6/Be933+hwZfDpwTqBQUEmENQgcEAOD4cPOb8GXwIvIN9cr49/zEAKgDjAVnBmIGvwWoBFoD4AENADv+4fyp+w/6YPic94P4rvoE/Tv/0gGiBK8GPAc+BmwEogIbAeT/Yv/p/34B2wNeBsQIVAtWDf4MqAltBJr+bPiU8Wbr/uim60nx0fc7/8MH2w+4FOcUjhF+DCYGp/5p9y/y4u9M8HPyofW8+T3+IAIABeAGlgcvB+4FJgRBAkEA3/2j+1D6gvmQ+Mj3KPhE+lX9/f8cAlkEXQYkB1MGWgQXAlUAOP+0/hP/kgApA0YG+whPC6kNvg6MDEQH6wCe+vPzM+3p6HnpC+5O9Kn7MgSNDIkS3hSrE6oPkQlEAgr7HfVN8f/v//CQ8wz3CPvz/kkC8QTfBr8HawdGBsAEywIlACH9tfpC+TH4Qfc199L40/sE/5cBvwOcBbEGkAZLBWwDpgFyAPD/JQAjAewCLgViB3MJnQsVDSAMJQiEAr38w/Zi8E3rDeoe7bbyUPm+ALsIqQ+KE6sTsRCYCz4Fcv4V+E3z/vAR8d/yvPUU+Zf8FAAuA5gFDQdPB7IGvAUwBJoBYv6N+7T5dvhI97H2yved+u79vgABA+kEOQaHBrwFOgSPAjgBjACYAC8BYQJEBHgGkwimClsMZgy/CdME/P7u+Jfy8+xp6i3s9fAo9z/+6gXyDHMRYxJYEFQM1gaJAIb6yfUN83zyjvPA9bD4yvu+/p0BPAQhBvoGwgbdBZAEcAJD/wH82Pm/+PD3bPcq+LH6/v2dAGsC/gMZBR4FNgQdA08CvQFZAXYBVAK7A0IFzQaHCIwKHwzIC8oI8wNo/mv4LPIa7TfrJe3P8SD4i/8bB0wN8RCmEYoPDwsPBcX+O/kH9aPyZvIG9MH2+Pky/RMAkgKyBDYGzgZyBnMF/QPHAdH++Pse+hL5N/jP9774H/vo/ToADgKCA0oEJQRwA9ACfQJsArICUwMsBC0FVQaNB/gIiAo/C9kJ9QV4AKH62vR87yfskOyB8I72k/3aBHkLBhBcEZsPqAtDBkMArPpT9t/zh/O59Lz2P/kM/Lr+1AA/AlsDeARaBZIFCQXjAxACu/9t/W77tflg+OP3zfjv+lT9ev9+ASID3AOfA+4CggKbAu4CdQNxBK0FvQaLB2QInAm0CikKHAdLAtv8Jvdf8eXszuu47in0rPrlAUAJDg+bEbYQYA1/CKUCsvzG97v0yfOW9G/2sfgW+4v9xP9bAVcCHAPWA2UEoQRbBFQDiQFy/5/98fsK+mf4Lvis+eT76v3I/8gBcAPqA00DlAJvArwCLQPUA9UEEwYxBwYI+whCCuAKbQmSBTEAV/py9AjvwOtR7JvwDvdb/tIFjAwQERsStA8BCx0F1P4p+Tb1jfP087v1Q/gf+839wf/zANIBjQLxAgQDJQOGA6gDwgL4ADr/0f0s/B76h/h5+Oj5y/uo/bv/2QFdA+UDrANcA0QDTQOaA1UESwU4Bv4GxwfxCAsKugk3B+oCov3q9z/y3u2K7OnuDvTL+igCIAmIDjgRphArDbEHawGM+/H2O/S+8xn1e/c8+u78Kf+PADUBnAEcAogCxAIUA4sDnAOhAtAA6f4W/Rj7Lfkl+Kf4ZfqS/Nn+HAHnAuADGATBAz8D8wL6AoADegSUBa0GqwedCLYJWgo9CekFEgGG+7P1PvCx7LjsZPBi9pr9RwUoDMQQGBIREH8LZgXJ/tr4sPT18qfz9vXN+LL7ev6YAIwBjgFtAbABIgJwAs0CXwOQA70CGQEt/yP99Pr8+PX3S/i++dr7Rv6UAF8ClQNABHIEVAQlBCYEewQNBa4FSQbiBr0H7giKCUkI8QQ9AMf64/SB72zsCu0Y8XP3Kv8rB+MN6BGiEh0Q2wr0A+T8DfdV8wfyFPPy9ZP5F/0BANsBdQI/AtUBhQFsAaIBQwIOAz0DdQIiAYf/dv0Q+wH5Cfhs+NT54PtN/pUATAJ0AxAEIgTrA8QD7ANpBP8EnAVIBuUGnAetCGUJcAhbBdYAm/vh9ULwkuyc7FPwcvbq/eMFFA3lEVMTRBFVDJ8Fjf5k+Pfz1PE68r70RPjC+8D+9QAfAl4CNwIhAkcCpgI3A8QDvAPFAjMBXP87/eT61PjP9z34uPm1+xD+dwBmAqQDPARKBAUErgOSA+ADYwTuBKMFdAZGB0MIKAnUCF8GEALj/HD3CvLX7bvsiu9G9Xf8EwQgC2IQsRKBESgNywbr/8z5J/V+8kbyX/S69yr7Gv5IAIQB3gHLAdABGQKTAi8DyAPkAwQDUgFk/179Ifv8+Mf3IPiw+bT76v1BAEsCmAM0BFUEGgS2A30DowMEBGoE6gSlBYAGfgedCPkIZQfFA/P+lfkC9Cjv3+xu7kbzBfqkASAJKQ94EkQStA7SCOoBPvvd9YPyxvGc8/P2mvr5/agAOQKVAjICzwHBAe4BVgICA3gDDQPFASoAZP40/NT5LPgA+Cr5/Pok/Yv/xAFPAyEEbAQ+BNQDlAOcA78D4QM9BP4EtwUrBu8GCwgVCN0F2gFG/YL4c/M87w7uwPAL9nb8cANVCqYP3xGJEFsMfwby/7b53vRK8lrym/Tt92L7l/4wAaMC1gJzAjMCQAJqApkC2gLrAkEC4AA1/1T9Nfs8+ST4b/jp+fP7QP65AN0CHgSKBGQE5ANOA9sCqwLSAj0D4gO6BGYFzAWPBroHBwhgBhADBv+Q+oT1y/Cd7iHwXPQM+rMAsgevDQUR1xCnDYQISQLr+4n2GfM48q3zefbM+Tr9LwAnAh4DewOwA8sDkgMSA5UC6gG4ACv/of06/OT6uvk8+dz5aPtV/Wf/dwEWA+YD9wOQA+wCOQKzAaUBFQLDAqcDsAR1BdMFVAZMBwoIbwcsBdwB4v36+KfzyO/z7jTxt/XD+9ACywn8DhgR8g8gDIUGIADo+fH0SPJA8kr0dPcN+7T+2gHpA9EEAAW5BOYDmgJOAV4Aj/+Q/pz9+fx3/Mj7Cvvi+qj7/vx0/vH/aQGeAksDWQPrAkgCtgFyAY8B6wGBAmEDTQThBDIF5QVXB8II1AgSB+ADe//S+Zrzre7f7KnuU/ME+vkB7gkhEA0TLRIZDuIHmgBn+ZfzXPAw8IjyX/bb+mb/YwMhBkIH6waNBZkDcgGK/y/+ZP0H/Qr9WP2H/S39hfw//Lr8ov2Y/rn/KwGLAjkDBgNNAncBxQBmAHsAAwHqARoDXgRUBdYFdgbcB5YJKwqlCFAFxQAP+2b0W+446xjsfvBl99//uggvEG8UjhTGEDIKOwJD+p3zf++w7gPxVfV0+qX/OgQ6Bw0IDwcWBbACKgAW/iD9Pv2//Uv+4/42/8X+lf1k/Pj7YPxU/cv+oQBSAlYDZwORAjUB6v8z/0P/7f8KAZgCTASlBWsG3wZ6B4gImwmmCfIHigS9/7z5JfOW7f7qSuwX8Wr4KAHqCfAQnxQuFOoPCQkGATr58/Jq70bvJfLO9vn72AC3BOAGFgfABY0DJQEV/9P9p/1E/h//6v9pADIAAv82/b/7W/v4+y/90P6jAB8CtAJGAjEB/P8S/8b+Of9GAL8BgQM8BX0G+gbHBl8GZAYhB/oHyQf8BcUCU/6g+Gbyre1a7Krux/Pt+jkDJQviEEET+BF0DbIGI/9A+CPzpPAr8S/0c/jv/CABewQ0BgoGpwTIAr0A5/7q/Rf+7/67/1YA1AC4AJH/1f1w/O/7I/y3/Kj94f4MAOIASAEyAcUAXwBUALIAXwFeAroDEgXPBc8FXgW5BCEELQRZBfoGkgdcBo4DTf+W+UzzeO7T7JHuMfND+rQCtQqFEBUTHhLxDV8Hu/+L+BfzaPDb8L3z/vfJ/GQB/gTEBnwG2QSxAm8Ahv6C/bH93f5WAI4BQAL/AYsASf4A/Gb60fk/+p77pv27/20BmgIOA7sC5wEcAcwA8gBeASICLwMQBG8EVgT/A6YDtgPfBBMH5AjlCOEGGAOH/ZX26+/V64Drqe7U9Fn9mwZ8Dl4TiBQAEjYMPQTp+/z0kfA47+7wA/VM+or/zgN4Bi4HLQYzBO8Bx/81/sf9i/7E/9MArAErAsUBMwDo/cD7T/qy+Qv6Z/tV/Vn/PAGrAj4D9AI3AocBDAGvALAAWQFvAm8DDwRGBCAEtgNBAyADyQNSBfUGkQdoBlUDnf7T+BnzE+8S7lvwjPXW/LgEhAv/D3MRsg/9CjEE7vzS9tjyffHK8ib2lvoh//0CmgWZBhcGowStAnEAgf6U/dz93f4bAIYBzwIUA9QBhP/w/Jn6zfgE+K74jfr5/Iv/7QGcA1AEMQSmA/oCNQKCATkBVgGbAdcB3gGsAWQBKwE1AbYB5AIMBdQH4An9CfIHDQSF/qb37PC07E7sau8+9f/8hgUXDc0RpBLIDxIK1QKI+3L1xvFG8bHz+fff/HQBGQUzB18H8AWmAzsBOf8E/uv92v43AGYBFALtAbIAhv78+9P5fPgb+Oj46vql/XEAwgJDBOcEoQSOAx8CwAC7/z7/Uv/j/8cAxQGhAicDOgMJA9oCywL1AqEDGQX6BgIILweMBJMAhfvK9bjwOO4o7/Tyxvjk/z0HTw2kEJoQkA1OCNoBhPuC9sbzzPMq9uH59P2mAYMELgZfBkYFcQNcAWj/9f1E/VP9zf13/kr/8P/b//L+xP3m/GX8F/wv/Oz8G/5O/0cA/wBuAXABFgG2AIwAsAA0AfoBuQI+A1kD9QIhAvkA1P8k/xz/q/+pABcCOATvBhgJegnhB7kEPQB7+mT09O+27rTwOfWk+yYDTApUDxgRig9bC4cFK/9n+U31tPPM9OL3v/to/4ECrQRaBWkEggKGAOH+qP0b/Yb9sf4XAHcBjALNAtIB1/+c/aH78vnX+Nj4DvoM/C7+GADAAQMDqgO7A1wD0gJ2AmECVQILAnsBzwAQABr/Ev6B/b/9s/4KAI0BPQMhBUQHcwnoCrYKkQjUBO//OPp89GLwX++B8ev1tfsWAiAIfAwBDqIMNgmeBKL/C/u993H2Jvc0+eb7r/44AToDTwQ+BFADBQLAAJb/jP7l/c79G/6N/gL/Tv8l/2r+bP2Q/PD7i/uu+7H8af4/ALYBuAJRA1wDvwKwAYwArf9B/0T/kv8DAIIACAFtAY8BjwGZAaMBkgF1AYUB7gGdAqsDRwUKB/gHXwc8BcwBPv0b+L7zofE08hH1t/mW/7YFtgpuDYMNPgsnB/0Bvfx/+C72Hfb39/H6MP4QAQ4DxwNCA+sBTADg/vT9vP1D/kj/bQB0ARIC6AHcADP/Zv3T+6L6IPqe+gz89f3P/0sBUALHApYC2wHnABYArv+6/xUAnQApAYkBmQE+AZAA5v+H/4j/3P9SAMMAHAFYAYQBtgEsAksDKwU4B4UIeggWB34EjQB2+2r2CvM18qjzx/ZN+84AHwbRCSMLTAr9B7wE7ABD/aL6ifnZ+QX7lvxi/i8AggEFAtYBWwHXAEoA1v+7//L/MgBkAIYAUgBn/9z9Y/x4+/362/pj+9H8x/6JAL4BcgKeAh4CDAG//5H+2/3c/Zb+w/8BAQ8CwALcAlECVAFIAHD/4v6u/tn+W/8QAMUASQGmAR0C3gLxA1AF8AZ0CAYJ6AcMBeIA7PvH9o/yh/BY8cX0GPp0AMYG0AuTDqIOIwy1B1YCK/0o+eT2o/Yy+NH6ov0IAKoBVgLuAcEAdv+E/hb+Wf5R/6gA6AG4AuoCUwLYAM/+2fxS+0r6+fmg+jD8K/4PAK0B0wIoA5UCZAELAN3+FP74/Z3+uv/rAO0BgQJoApkBUQD9/u39Rf0w/cn97/5QAJsBnwJIA5ADgQNMAzMDaQMKBCYFlQbRBxYI2gYPBPf/9PrB9a3xDvBw8XT1TPsKAn8IWQ2QD8QOUQsTBiMAofp49lX0lfTz9oX6R/6FAdAD2wSGBBsDQQGR/1/+3v0a/t/+0v+mACIB9gD6/3H+4/y6+wL70Ppe+778lv5oAPAB+wJeAwEDAAKxAGv/e/4u/o3+Wf9HACMBxgEBAqkBygC2/7X+8v2T/bD9Wf55/84ACALtAmADXQP5AlkCsgFMAWsBKAKDA2AFZAffCAIJWAf4A03/6fm79Avx4++q8Qb2E/zEAusIUQ0PD9QNAQqQBLn+gvnH9TL05vRn99T6UP5HAV0DOQTTA6gCTQEfAFP/HP+O/2oAQAG8AbIB9gB9/6L9//v4+qX6FPtV/Dv+UgASAjIDqQN1A6oCewEcANL+8f2u/fv9nv5h/zEA4gAsAfwAhQD8/4H/KP8R/1j/5v+NADsB2gFIAmkCOwLSAUgBuQBFABQARADlAPwBgANKBf0G+AebB6sFVALw/RH5tPT38Z3xwvP193f9UANbCJgLfgwBC5QHFAN8/rL6ZPjg9wj5VfsJ/nQAHAK0Ai0C3wBe/yD+cf2N/YL+EQC4AfkCigNAAwYCFQD0/Sz8IfsB+8/7aP1w/10BxQJtA0IDUwLzAID/R/6V/Y/9Nf5Z/58AsQFaAncC/AEKAeH/xf73/ZL9jv3j/W7+Av+F//b/WgCwAPQAMgF6AdgBMQJjAmICNQLnAYgBLAEDAVIBKgJPA0wEoAQSBJUCEwC8/Fb54vYO9vr2a/kZ/XoBlQVwCIgJ1girBoYD+v+x/Fb6Uvme+eL6rPyS/kUAdgHrAb8BOgGcACYA+/8eAJMAPwHoAVgCVAKnAWgA5v5m/Sj8YftC+/b7XP0K/50A3QGqAvICowLBAY4AZ/+O/hX+9f0z/sn+jf83AJYAogBvAA0Ahf/w/nf+PP5O/qX+Lv/Q/3AA+QBWAXsBbQE4AfkAyACiAHkAXQBoAKkAGwG4AZYCwQMDBfoFSgbIBW4EPQJh/0H8dvmh9yX3Dfgt+jr9swD3A2MGgQdDB98FowP8AG3+b/xS+xn7lfuW/Nf9Dv8AAJMA1gDtAOwA5wD3ABwBPgFAAQkBkQDg///+Ev5W/fD86fxB/e/90/68/4AAAAEpAfUAcADD/yH/nf5I/kD+lf40/+z/kAAXAXkBlAFSAcsALACP//3+gv4t/gn+D/45/oj++f6I/zMA8wC2AWYC7AIxAywD3wJVAp4B0gAjAMb/y/8wAPUACQI7Az8EvQSIBKYDHwIXANr91/uC+iD6q/oB/PD9IQAhApEDMQT+AyMDzwFDANH+sf0O/fL8RP3T/Xr+FP99/6z/qP+F/3X/mf/2/4cALQGuAeABrgELAQEAu/6H/bD8Vfx7/Cj9SP6a/9QAuQEgAgQCcgGOAJf/u/4d/t39A/56/iv/9v+5AFkBtQG4AWcBzQABACz/c/7y/cP96/1b/v/+uf9pAAUBhwHeAQkCFwIPAuoBpQE8Ab8ARADR/3f/Wv+U/ycAAgEFAgYD3ANXBEwEsAOZAjEBp/85/ib9nfy0/Fr9bf67/wMBBAKQAo4CCAIfAf//4f7+/XT9Tv2K/Q/+uf5l/+j/NQBKACkA5/+Z/1f/M/8z/0//fv+t/83/2//W/8T/rv+c/5P/nP+3/93///8TABwAGAALAO//u/96/zj/8P6g/lz+RP5q/s/+Yv8PALoANwFhASoBkgC7/9j+F/6o/bH9Lv4A/wUACwHcAVACVwIBAnYB2QBEANr/sP/C//3/SwCbAOUAHQE6AUkBXQGBAbkBBAJcArgC+gIFA88CWAKWAZYAfP9x/qP9I/0H/Wv9Qf5T/2UATwHzATgCAAJNAVwAZP96/sD9Tf0v/Wz95v14/hL/of8JAEUAWgBMACUA9f/E/6H/mv+i/6X/pP+e/47/fP9h/0L/Ov9K/1v/ZP9j/1b/TP9H/0r/bf+1/xQAegDQAAMBBQHQAGkA6/9y/xL/3/7j/hn/d//g/zgAbQB7AFgAEgDG/4z/d/+R/9X/OACuABwBYwF1AVMBDwG0AE0A9P/F/9D/BgBVAKwA/gA/AV8BZQFfAVcBWgFwAZsBzgH2AQAC5gGpAUMBswAGAFn/wv5N/gH+5v0H/l/+5f6A/xkAnAD6ACEBCwG4ADwAuP88/9/+tf65/tr+Dv9J/4L/sP/C/7v/rP+f/5P/i/+E/4L/hv+H/4D/cv9i/0z/OP8w/zP/P/9U/2n/ef+B/3L/Tf8k/wb//v4b/2H/x/9CAMEALgF1AYYBWwEDAYwABwCJ/yD/2/7F/uL+Jv+E/+j/QACLAMAA1gDTAMIArACZAJkApwC7AM4A2wDeANMAtACEAFQAOABCAG0AqADlABoBNQEpAfYApQBPAAoA5P/h//7/JwBIAFwAXQBGABcA2f+e/3//eP9+/4//q//T/wUAOABqAKAA2AADARUBBgHOAG8A/P+H/yD/2P62/rz+6f4l/1n/fv+J/3z/aP9X/1T/bP+V/8X/8P8BAPL/wf9w/w//t/52/k7+Q/5g/qP+BP92/+f/TgCmAOIA+QDmALMAagAcAN7/uP+m/6P/qv+7/9D/3f/e/9z/4v/1/xMANgBRAGUAdQB/AIEAegBvAGUAWwBQAEQAOwA4AEAAWwCIALgA2wDuAO4A3gDFAKQAhAByAGoAagBpAGAAUgA+ACYAEwAKAAcACwAYAC0ARQBVAFUASAAzABoABwD8//j/AQAZADcAUQBhAGUAYgBYAEMALAAXAP3/3//G/7P/p/+c/5L/k/+e/6j/rv+v/6v/rP+w/7P/t/++/77/t/+l/4T/YP8+/yj/J/82/1D/b/+M/6j/vP+//7f/rf+k/53/mP+X/6D/sf/G/93/9P8HABAAEAAIAPz/6P/N/7X/p/+q/8H/5v8OADQAUwBiAFoAPAAUAPH/2v/c//P/EgA7AGEAdgB6AGgARQAiAAkA//8CAAoAFwAnADcARgBXAGYAcwB+AH8AdABbADcAFAD7/+j/3f/b/+P/8v8BABMAKABBAF4AfwClAMcA3gDjANIAswCJAFIAFQDZ/6X/hP96/4f/p//X/xMAVgCQALMAuQCnAIEATQATAN//uf+p/6v/uf/N/+H/7v/x/+3/5f/a/9X/3f/x/wgAFwASAPH/vf+G/17/Uv9h/4n/uv/l//z/8f/L/57/ff91/4X/ov+8/8v/y/+8/6n/m/+f/73/6v8UAC4AJwAFAND/kv9h/0X/SP9p/5L/tf/I/8b/uv+z/8L/7P8pAG4ApADAAL4AngBuADoADwD3//D/9P/7/wAABgARACEAOQBXAHMAjACYAJAAdwBPAB8A/P/v//P/BQAfADkAUQBfAFsATAA5ACkAHAAWABUAFgAbACAAJQArACwALAAtADAAOAA/AD8APgA+AD4APAA0ACMADAD2/9r/vf+q/6f/vv/r/yUAZQCXAKwAowB8ADoA7P+i/27/W/9m/4b/q//N/+H/4v/R/7r/qP+i/6n/u//P/93/4//d/83/uf+m/5j/if9//3n/df9x/27/bv93/4r/ov+6/9P/7v8HAB8ANABCAE4AUQBKADgAGgD5/9j/u/+q/6r/u//W//v/JQBNAGwAdwBsAFkAQAAkAAkA8//k/+D/5P/u//v/CQAaAC0ARABcAHAAfwCGAIQAdQBXADQAEwD9//L/7f/w//n/AwAUACsAQQBXAGgAbgBoAEwAHwDn/67/h/93/37/nv/P/wYAOQBdAG4AZwBLACgABgDo/9L/yP/M/9//9/8LAB0ALAAzAC8AHgAGAOf/xv+z/6//s/+9/8f/zf/S/9T/1P/a/+r/AgAeADkASwBOAEEAJwAEANv/rv+O/33/ev+I/6f/0f///y0AWABwAHUAagBTADoAIAAHAPP/5f/X/8f/uf+y/7T/vf/U//X/GAA6AFAAWgBZAE0APQAvACcAKwAzADgAMgAhAAUA4/+//57/hf98/4f/of/D/+b/BAAcACkALgAsACYAIAAbABsAHwAgABoAEwAKAAIA+P/m/9j/0P/Q/9b/4//1/wQAEAAaABgADgD//+v/2//U/9P/1//h/+7//P8FAAYA/v/v/+P/3//m//j/EAArAEAASgBIAD0ALQAeABUAEgASAAwA/f/s/9r/yf+9/7r/w//V/+//DAAmADwASQBIADwAKwAXAAUA+P/v/+v/7f/z//j/AAALABUAHAAgAB8AHAAUAAkAAQD8//X/6P/X/8f/u/+0/7X/xv/m/wgAJQA5AEIAPwAwABcAAwD6//X/9P/2//r//f/8//f/8v/w//T/+/8EABAAGQAZAA8AAQDz/+X/2//W/9b/2v/h//D///8MABwAJQAmABwACQDz/97/z//I/9H/4v/2/wcAEwAbACEAJgAuADgAPgBAADoAKQASAP3/6//h/93/4P/q//X//f8BAAUABQADAAEAAAADAAgADQATABMADwAJAAIAAAABAAAA/P/4//T/7f/q/+7/+v8HABIAGQAbABIAAgD4//j///8FAAcAAAD0/+f/2v/T/9n/5v/y//r//P/+/wAAAAAEAAkAEAAVABMADQAHAAQAAgAAAAAAAwAMABQAGQAbABkADQD+//D/5//k/+T/6f/s/+v/5v/f/93/4//w/wAAEAAdAB4AFAAHAAIAAgAGABEAGwAfABwAFAAIAAAA9v/s/+r/7f/1/wAADAAYAB0AHAAVAA4ABgD///z/+//8//z//v8BAAQABgAEAAAA/f/5//T/8//0//n///8BAAEABQAJAAoABQD9//X/8//2//f/+f/8//3/9//v/+n/6v/y//z/BwAXAB8AHAAPAAAA8//r/+//+/8NACEALAAwACkAFQD6/9v/wv+1/7T/v//U/+3/AQAOABYAFQAPAAoACAAJAA0AEgAVABcAGAATAAsA///u/9//1v/T/9T/3P/r//3/DAAYAB8AIwAkABsADwAEAPz/9P/v//D/8v/3//z///8HAA4AEQATABUAFwAXABQAEAAMAAgABQADAAIA/v/5//f/9P/v/+n/5//m/+b/6v/0/wAABgAKAA8AFgAXABIACwAEAP//+f/y/+z/7P/y//n///8BAAAA+v/u/+n/7//6/woAHgArAC8AKgAZAAMA7v/h/93/3//p//v/DQAcACMAIQAZAAsA/P/r/9z/1f/X/+T/9f8BAAsAFgAeACAAGgALAPv/6v/f/+D/7f/9/wwAEwARAA0ABAD2/+f/4//o//L/+P/8////AgAKABEAFAAUABAADQAMAAkAAQD3/+z/4v/g/+P/6f/x//n///8EAAkABwACAAAABAAOABQAFwAYABgAGQAZABEAAwDy/97/z//I/8//3f/v/wAADAAWABgAEwANAAkACgAOAA0ACQAGAAQAAQD///r/9f/z//T/+P/9/wMACwAQABAADwASABgAHgAfABkADgACAPr/9f/3//7/BAACAPr/8f/o/97/2P/e//P/BwAVABgAEgALAAYABQAFAAYACAAKAA0AEAAPAAcA/v/1/+z/5//q/+3/8P/z//P/8v/w//D/9v8BABMAIQAmAB8AEQADAPb/6v/i/9//4P/r//z/CAAOABEAEAAOAA0ADAAKAAUABAAJAAoABgACAP//+v/1/+7/5f/c/9P/0P/W/+X/+P8AAAMACwARABMADQADAPr/9P/z//n/BAAUACIAJwAjABUAAwDy/+X/5f/t//f//P/9//z//P8AAAMABQAJAA0AEwAXABYAEgAMAAMA/P/z/+z/6v/x//z/CQAaACkALQApAB8AFQANAAQA9//r/+f/5//o/+r/7//6/wMABgALABQAFgAOAAkABgAGAAkADgAVABwAHQATAAIA8f/o/+n/8P/6/wIAAwAAAP3/+P/y/+//8P/0//j//f8AAAAA/f/5//P/8v/5/wUAFQAkACwAKwAbAAQA7P/b/9b/3v/y/wYAFAAWAAkA/P/v/+P/2v/X/9j/4P/x/wMAEwAdAB4AFwANAAYAAAD8//3/AQAJAAwACAADAAAAAwAKABIAFQALAPr/6f/j/+X/6P/p/+n/8v///wQAAQD//wAABAAOABUAFAAPAAoACAALAAoAAwD8//j//v8LABcAGQAUAA4ABwADAAMAAwACAAQACAALAAoABAD6//D/6f/k/+P/6P/u//n/BwAVABsAFgAHAPj/7//s/+3/8v/8/wsAGwAlACQAGQALAP//9P/u//P/+v/9//3//f/8//X/7v/r//H//v8NABkAHwAZAAkA9v/l/97/4v/v/wAAEAAeACgAKwAmABgAAgDt/+L/3P/a/9n/3P/l//H//P8AAAAAAAAAAAMABwAMAAsAAQD2/+z/6P/q//L///8QACIAKgAnAB0ADQAAAPz///8CAAIA+v/u/+T/2P/M/8f/zv/j/wEAHQAxADoAOAAvACIAEwAGAP3/+P/7////+f/p/9n/0//a/+r///8QABkAGwATAAMA8v/k/+H/5//0/wMADAAPAA4ADAANAAsABwAEAAYADAAUABkAFQAKAAAA9P/p/+L/4v/r//n/BQALAAgAAAD2/+//7P/v//b///8HAA8AFgAXABUAEwAQAAwABgD///z/AAAKABIAEgAOAA4ADgALAAEA8P/X/8H/uv/B/9X/7v/+/wcADwARAAkAAQD//wYAFAAdABwAFAAJAAIAAQACAP7/9//0//b/9v/x/+b/4v/l/+//+P/+/wQACwARABUAEAAAAOb/0P/O/+P/AAAWACEAIgAjACYAIwAbABAABAD4/+z/5v/l/+r/9P/8/wIABAABAP//AAAGAA4ADwAHAPz/9v/3//v/AQAGAA4AFgAZABEABQD+/wEABgADAPr/7f/k/+H/5P/s//X/+//8//j/9f/0//L/8P/4/wMAEAAbAB0AIQAjABwADgD9/+3/6P/v//z/BgAJAAUAAAD3/+n/4v/f/+D/6v/6/w0AGwAgACAAGwAWAA4AAQD4//X/+v8EAA4AEwAUABEACQD+//P/7f/u//T//P8EAAsACAD///P/5v/e/9z/4f/v/wMAFQAaABMABwD7//P/7//0//3/CwAeACgAKAAbAAcA9v/o/+D/4f/p//H/+f8BAAYADQARABYAHAAgAB0ADgD7/+v/4//o//b/BAANABIAEQANAAcAAQD+//z//v8BAAgADQAMAAYA/v/y/+P/1//Q/9T/5//+/w8AGwAfAB8AFgAGAPz/9f/z//b/+//+//z/9f/y//D/8//7/wMADQAYAB8AHgAQAPv/6P/g/+j/+v8NABwAIgAbAAsA+v/u/+7/9/8CAAkACQAEAP7/9v/x//H/9f/7////AwARAB0AHAARAAIA+P/2//j/+P/6////AQAEAAgACAAIAAwADgAOAAwACgAJAAcABQAFAAYABwAGAAIAAgAIAA8AEQAPAAwAAwD0/+f/5f/v//3/AQD+//X/7//v//b/AwAPABgAGAANAAAA9f/r/+j/7//9/wsAFQAWAA8AAgDy/+X/3//i/+3///8VACcALgAoAB0AFQAJAPz/8P/k/97/3v/i/+f/7v/6/wgAEwAbABwAGAAVABEADgANAAcA/P/w/+b/4v/m/+v/6//p/+7/+v8HABQAGwAbABAAAAD0/+z/6f/t//T/+v/9//3/+//7/wIADAAWABwAGgARAAMA9v/t/+//9v/7////AgADAP7/+P/1//b/+v/+/wUAEAAdACgAKAAfABEAAgDz/+j/5f/p//D/8//y//X//P8DAAgACAALAA4ADwALAAMA///9//v//P8AAAIABAADAAIABgAKAA0ACgACAPr/9f/z//P/8//y//b//P/+//7//f///wAAAgAEAAIA///6//f/8//s/+v/7//2/wAADgAZAB0AGwAPAAIA9v/s/+f/4//r//7/GQAuACwAGAABAOn/2//a/+X/+f8OABoAHAATAAUA9v/t//X/BQAUABwAGQANAPv/8P/t//H/9//9/wAAAAADAAMAAAD7//P/6//n/+n/6f/y/wIADAARAAsAAwAAAAEABwARABYAEgAHAP7/9f/v/+//8f/1//3/BgAPABUAFAAOAAoABAAAAAIABwALAA0ACgABAPD/1v+//7j/zP/y/xoAOABGAEQAMwAdAAsAAgD8//T/8v/x/+v/5f/e/9r/3f/m//P/AwAUACQAMwA3AC8AHgAHAPH/5v/k/+j/8v/7/wAAAAD9//T/6P/k/+r/9/8FABAAFQARAAgA///1/+z/6P/o//D//v8RACAAJQAhABMABgAAAPv/9//0/+//6v/m/+j/8v8AAA0AEgAOAAUA+f/t/+T/5f/u//z/DQAeACgAJwAaAAcA9//s/+v/7f/w//j/AQAIAAsACwAGAAEA+//1//f//P////3/+v/4//j//P/8//3//P/5//X/9v/9/wYAEAAYABgAEQAGAP7/+v/7////BAALABEAEwAMAAAA9v/v/+7/8//6///////4/+7/6//y//v/BgAOABQAFgAVABQAFAATAAwAAgD4//H/6//p/+v/7//5/wIADQAXABgAEwAIAP7/9v/w/+//7v/v//H/9////wIABAAIAA0AFgAfACAAFQAEAPP/5f/g/+f/+P8JABEAEAAJAAIAAAAAAAQACgALAAYA+//z/+3/6v/p/+j/7f/2/wAACgARABMADwAGAAAA/P/2//L/8v/3/wIACgAOABAADgALAAYABAAGAAoADAANAA4ADQAHAPz/7P/e/9T/0v/a/+n/+/8KABUAGwAeACIAJQAlAB0AEAABAPT/7P/q/+//9v/6//z/+v/2//b/9//3//f/+////wcADQAQABMAEgAOAAQA+v/w/+j/5//s//b/AwANABMAEAAMAAgABQABAP//AAABAAMABgAHAAcABgAFAAIAAQACAAEABAAHAAYAAAD3//L/8//5/wEABwAKAAgAAgAAAAIABgAHAAMAAAD//wAAAgACAAIAAQD///v/9v/4//3/AwANABQAFAAKAP3/9v/z//r/BwATABgAEAD8/+X/1P/P/9j/7P8EABgAIAAbAA4AAgD7//f/+/8CAAgADgANAAQA9f/m/93/2//l//j/CQAUABQACgD+//f/9v/7/wAAAgAIAAwACwAHAAEAAAAHABAAEQAIAPr/6P/Y/9f/5f/6/wwAFwAYABYAEQAHAAAA/P/5//n/+v/8////AwALABAAEAAIAPv/8f/t/+//9//+/wQACQAIAAUAAgD///z//v8AAAAAAgABAP///v///wAA/v/6//X/9P/2//b/9//9/wUADwAZAB0AHAAXABQADwAGAP3/8v/o/+T/5//w//v/AwAJAAgAAgD///3/+f/6//7/BQALAAsABAD8//T/8P/0/wAADwAcACUAIgASAAMA+f/y/+//7v/y//b/+v/+//v/8//u//T/AAAOAB4AIQAXAAcA+//1//T/9v/4//z/AAACAAIAAAAAAAIACgAUABwAHwAWAAUA8v/e/9D/0P/a/+b/8v/8/wMACwAVAB4AJQApACQAGAALAAAA+v/z/+3/6//t/+3/7f/r/+f/5//w/wEAEgAhACUAHQAQAAUA/f/2/+//7f/0////CgAVABsAGQAQAAMA+P/v/+v/7f/0//f/8v/r/+T/5P/t//n/AwAMAA8ADgAKAAoADwAZACEAIwAdAA4A/f/x/+//9f/+/wcACwAFAPr/6//e/9n/2P/e/+j/8//9/wYADgAUABQADAAAAPf/+P8FABwAMAA4ADAAGAD7/+b/3P/e/+r/+v8DAAcABgAAAPn/8//y//L/9P/2//r//v8BAAMABQAGAAgACQAMAAsACgAKAAoACgAGAP//+f/4/wAADQAVABAAAADv/+T/5P/t//n/AwAJAAcAAgD+//j/9v/3//z/AgAGAAgABwAFAAIA///8//v//P/+/wAAAgADAAAA/v/8//v/+v/8/wAABQAMAA4ACwAIAAQAAwAGAAUA/f/t/9n/z//U/+f/AQAZACMAHQANAPz/8//1/wAADwAZABcADQABAPj/9f/5////AAAAAP3/9v/v/+v/7v/3/wMADQARAA8ABwD///n/9P/1//z/AwAMABUAGQAWAAsA+//q/+L/5//1/wUAEAAUAA0AAAD2//P/+f8BAAMAAQD7//r//v8DAAoADwARAA0ABgD///n/9P/0//n/AAAJAA0ABQD4/+r/5v/s//f/AwAOABMAEgAMAAMA/////wAABQANABYAHwAeAA8A+v/j/9T/1P/e/+7/+v/+/////v///wAA/////wEABgAQABcAGQAXABAACQAHAAQAAAD7//b/8//y//P/9f/4//v//P/8//j/9f/2//b/+P/6//z///8EAAoADwAUABgAGAAWABUAEQAHAPr/8f/x//v/AQABAPv/8P/q/+v/7//y//f/+////wAAAAAAAAEAAQAGAA4AEgARAAoAAQD+////AQAEAAUABAAGAAUAAgD+//n/9v/2//f/9v/3//f/9//3//r//v8CAAcACgALAAsACgALAA0ADwASABIADAABAPX/6//p/+7/+P8BAAgADAAIAPz/7v/n/+7/AAASAB0AHgAXAAkA+v/w/+7/8v/4////BwAMAAgAAAD3//H/9P/7/wQACgAKAAQA/f/2//L/8//7/wUAEQAcACAAHAARAAQA+f/0//j//v8BAP7/8v/j/9r/2P/i//P/BQAWAB8AHgAWAAsAAgD//wAABwASABgAFwAOAAIA8v/g/9T/0v/c//D/BwAbACUAIwAZAAgA9v/p/+n/9v8EAA8AEAAGAPn/7P/j/+X/7v/6/wQACwANAAkAAwAAAAIACgAQABMAFAASAA0ABQD+//X/6//l/+v/+/8LABIADQAAAO//4f/c/9//7P/7/wcAEgAZABoAFgAPAAoACwAOABAAEgASABAACwAFAP//9//s/+D/2v/c/+n/+v8HAA0ACAD///j/+v8EABIAHAAgAB4AGAAOAAQA/f/2//P/9P/6////AQABAAAA/f/6//b/9f/3//z//v///////v/9//z//f///wQADgAXABkAEwAJAAEA/f/9/wAAAAAAAAAAAAABAAEA///3/+3/6//w//j/AQAJABEAEQAIAPr/7f/o/+z/9/8CAA4AFwAZABUADQAGAAAA/P/3//P/8v/z//T/+f/+/wAAAAAAAAAAAAAAAAEAAgADAAUABQAFAAQAAgD///v/+f/6//v/+//7//z/AAADAAUABQACAAAAAAABAAIAAQD///3//f///wAAAAAAAAAAAAAAAAAAAAAAAAEA/v/4//L/8v/4//7/AQAEAAgADAAQABIADgAHAAIAAAAAAP//+//1/+7/7f/x//f/+v/6//f/9f/4/wAACwAWABgAEwALAAMA/v/+////AAACAAQABQACAP//+P/y/+//7//z//f/+P/1//T/9v/5//z//f8AAAAAAgAHAA4AFQAYABQADgAIAAYABQADAP//+v/z/+//7f/u//D/8v/0//b/+f/+/wAAAAAAAP//+//7//7/BAAMABYAHAAcABYACwAAAPf/9P/4//7/AwAEAAEA/P/0/+//7//x//f//v8CAAcADAARABEACQABAPz/+v/8/wIACwAQAA8ACQAAAPr/9f/1//z/BQAPABQAEAAFAPr/8P/v//X//P8DAAgABwACAP3/+P/5//3/AQAIAA8AEQAQAAsABgAAAPz/+//+/wMABQAGAAQAAAD5//P/8P/y//b//P8BAAQABAABAP7/+//7////BAAJAAwADgAMAAgABQAEAAQAAgAAAP7/+f/0//D/8P/v/+3/7v/y//r/AQAGAAwAEAARAA8ADAAHAAIA///+//3//v////7//f///wIABwAGAAAA+v/z//H/9v/+/wcAEAATAA0ABAD+//n/+f/7//3//////////v/7//n/+v/+/wEAAwAGAAYAAwAAAAAABAAJAAsADAALAAkABAD9//b/8v/x//L/9//9/wQABgACAPz/9f/0//v/AgAJAAoABQAAAP7///8AAAIABgAHAAkACAAEAP3/9f/w//P//P8DAAcACAAFAAEAAAD9//n/+f/7//7/AAADAAQAAgAAAP7//P/5//j/+P/5//j/+f/7/wEACwAUABkAGQAVAA0ABAD7/+7/4//h/+b/8f/9/wUACAAHAAMAAAD+//v/+v/9/wMADQAVABYAEQAHAP3/9v/0//n//v8BAAIAAQD9//f/8v/w//H/9/8AAAsAEwASAAoA///5//z/BAAPABMADwAEAPr/8//v//D/9v/8/wAABAAIAAYAAAD4//X/+v8DAAwAEwAUAA8ABQD9//f/9v/3//j//P8BAAQAAgAAAP7/+f/4//v///8CAAIAAAD//wAABwAQABIADgAFAPr/8f/t//H/+f8AAAcADAANAAkAAgD7//b/9v/7/wAAAwADAAEA///9//z//v8AAAIABAACAAAA///+//7/AAAFAAwADwAOAAkAAgD8//n/+v/+/wIABwAIAAMA/v/2//H/7//y//r/AAAEAAcACAAHAAUABQAGAAgABwAFAAMAAgABAAAA///8//v/+f/4//j/+f/9////BAAMABEAEQAKAAAA+P/z//T/9v/5//v//P/8//3/AgAIAA0AEAAQAAwABQD///j/9P/1//v/AAADAAQAAgAAAPz//P///wEAAwADAAEA///8//j/8//v/+7/8v/6/wMADQATABUAFAASAA8ACgAEAP3/9v/x//D/8f/y//P/9v/7/wAAAwAFAAUABQAHAAsADQALAAYAAAD5//T/9f/4//3/AAAAAAAAAAAAAAAAAAAAAAMABgAJAAkABQD///j/8//0//r/AwAIAAsACgAGAAAA+v/2//f//P8AAAUABgADAP7/9//0//j//v8FAAoADAAKAAcABAAAAP/////+//7//v///wAA///8//j/9v/2//n//v8AAAQABwAKAA4ADgAJAAEA+//3//f/+f/8////AAACAAUABwAHAAMA///8//r//f///wAA///9//z//v///wEABAAFAAgADAANAAsABgABAPv/9v/0//T/9f/5//z///8AAAEAAgAAAAAAAAABAAMABgAHAAQAAQD8//n/+f/7////AQACAAIAAQD///3/+//5//r//P///wAAAQADAAQABwAIAAkACAAFAAEAAAD///7//v/+//3/+//5//r/+v/7//z//v8AAAIABAAEAAMAAwAFAAkADAAOAA4ACwAEAPz/9f/x/+//8P/0//z/AQACAAQAAQAAAAAAAQAEAAcACAAIAAQAAQAAAP7//P/7//z//v///wAAAAAAAAAAAAAAAAMABQAGAAMAAAD///3/+//8//7/AQAEAAcABgADAAAA+v/1//L/8//4//3/AgAIAAkACAAGAAUABAABAAAAAAADAAYABwAFAAIA/f/3//L/8f/z//b/+/8AAAQACAAIAAYAAwACAAQABQAFAAQAAQAAAP//+//6//r/+v/6//r/+//8////AAABAAMAAwACAAEAAgABAAEAAAAAAAAAAAD///7//f/8//v/+//9////AAACAAQABQAFAAUAAwABAP///f/7//z//f///wAAAAAAAP////////3//P/+/wAAAQADAAUABQAEAAUABAADAAIAAQACAAQABgAGAAQAAQAAAP3/+//5//j/+P/7////AwAIAAoACgAFAAEAAAD//wAAAAAAAAAAAAD+//3//P/8//v//f///wAAAgAFAAUABAACAAAAAAAAAAEAAgACAAIAAwADAAEAAAD9//r/+f/6//z///8AAAAAAQAEAAYABQACAAAAAAADAAUABwAIAAYAAgD///3/+//7//z/+//9//7///////7//f///wAAAwAGAAkACgAIAAUAAwAAAAAA//////7//P/7//v/+//6//j/+f/9/wEABAAGAAYAAwAAAAAAAAAAAAAAAAAAAAAAAAAAAP///f/7//v/+v/7//7/AAAAAAAAAAABAAIAAwAEAAMAAgADAAQAAwABAAAA///+//z/+v/6//n/+v/7//z///8AAAEAAwAEAAYABwAJAAgABQACAAAAAAD////////+//7//v/9//z//P/8//7/AAABAAMAAwACAAIAAgACAAIAAwACAAEAAAAAAAAAAAAAAAAA///+////AAAAAAAAAAAAAAAAAAAAAAAAAAACAAMAAwAEAAUABgAFAAEAAAAAAP///f/7//z//P/7//v/+//8//z//v8AAAAAAgADAAMAAwACAAEAAQAAAAAA///8//z//P/9//3//f/9//7///8AAAAA///+//z//f///wAAAAAAAAEAAQABAAAAAAAAAAAAAAAAAP//////////AAAAAAEAAAAAAAAAAAAAAAAAAAABAAIAAwADAAMAAgABAAAAAAD///7//v///wAAAAAAAAAAAAAAAAAAAAAAAAEAAgACAAMAAwABAAAAAAAAAAAAAAAAAAEAAAAAAAAA///+//v//f///wAAAAAAAAEAAAAAAAEAAQADAAMAAwADAAMAAQAAAAAAAAAAAAAAAAD///7//f/+////AAAAAAAAAAAAAAIAAgACAAEAAAAAAAAAAAAAAAAA/v/8//v//P/8//3///8AAAAAAAAAAAEAAQABAAAAAQABAAEAAQAAAAAAAAD///////8AAP7//f/9//3//////wAAAAAAAAAAAAABAAIAAQAAAAAAAAAAAAAAAAD///7///8AAAAAAAD///7//v///wAAAAD///7//v8AAAAAAAAAAAEAAQACAAIAAQABAAAAAAAAAAAAAAAAAAAA/////wAAAAABAAIAAwAEAAMAAwADAAEAAAD///7///////////8AAAAAAAAAAAAAAAAAAAAAAAAAAAAAAAAAAAAAAAABAAIAAwACAAAAAAAAAAAAAAAAAAAAAAAAAAAA//8AAAAAAAAAAAAAAAAAAAEAAQAAAAAAAAAAAAAAAAAAAAAAAAAAAAAA///9//3//P/+////AAD+//7/AAAAAAAAAAAAAAAAAAAAAAAAAAAAAAAA///+//7//v/+/////v///wAAAAAAAAEAAAAAAAAAAAABAAIAAQABAAAAAAAAAAAAAQABAAAAAAD//wAAAAAAAAAAAAAAAAAAAAAAAAAAAAAAAAAAAQAAAAAAAAAAAAAAAAAAAAAAAAABAAEAAQABAAAAAAAAAAAAAAAAAAAAAAAAAAEAAgADAAMAAgACAAIAAQABAAAAAAAAAAAAAAAAAAAAAAAAAAAAAQADAAMAAgAAAAAAAAAAAP///v/9//z//f////////8AAAAAAAAAAAEAAQAAAAAAAAAAAAAAAAAAAAAAAAAAAAAAAAAAAAAAAQACAAEAAAAAAAAA///+////AAAAAAEAAAAAAAAAAAAAAP////8AAAAAAQABAAEAAQAAAAAA/////wAAAAAAAAAAAAAAAAAAAAAAAAAAAAAAAAEAAQACAAIAAQAAAAAAAQAAAAAAAAAAAAAAAAAAAAAAAAD///7//v///wAAAAAAAAEAAQABAAEAAAAAAAAAAAABAAAAAAAAAAAAAAAAAP////////////////////8AAAAAAAABAAEAAQAAAAAAAAAAAAAAAAAAAAAAAAAAAAAAAAAAAAAAAAAAAAAAAAAAAAAAAAAAAAAAAAAAAAAAAAAAAAAAAAAAAAAAAAAAAAAAAAAAAAAAAAAAAAAAAAAAAAEAAQAAAAAAAAAAAAAAAAAAAAAAAAAAAAAAAAAAAAEAAQABAAIAAgABAAEAAAABAAIAAQAAAAAAAAAAAAAA/////wAAAAAAAAAA/////wAAAAAAAAAAAAAAAAAAAAAAAAEAAQABAAEAAAAAAAAA//8AAP//AAAAAAAA///9//7//v/+////AAAAAAAAAQABAAAAAAAAAAAAAAAAAAAA//////////8AAAAAAAAAAAAAAAAAAAAAAAAAAAAAAAAAAAAAAAAAAP//AAAAAAAA//8AAAAAAAAAAAAAAAAAAAAAAAAAAAEAAgACAAIAAQAAAAAAAAAAAAAA////////////////AAAAAAAAAAAAAAAAAAAAAAAAAAABAAIAAQAAAAAAAAAAAAAAAAAAAAAAAAAAAAAAAAAAAAAAAAACAAIAAgACAAEAAAAAAAAAAAD/////AAAAAAAA//////////////7/AAAAAAAAAQACAAIAAQAAAAAAAAAAAAAAAAAAAAAAAAAAAP///v//////AAAAAAAAAAAAAAAAAAAAAAAAAAAAAP///////wAA//8AAP////8AAAAAAAAAAAAAAAAAAAAAAAAAAAAAAAAAAAAAAAAAAAAAAAD///7///8AAAAAAAAAAAAAAQAAAAAAAAAAAAAAAAABAAIAAgABAAAAAAAAAAAAAAAAAAAAAAAAAAAAAAAAAAAAAAAAAAAAAAABAAAAAAAAAAAAAQACAAIAAgABAAIAAgABAAEAAAAAAAAAAAAAAAEAAAAAAAAAAAAAAAAAAAAAAAAAAAAAAAAAAAAAAAAAAAAAAAAAAAAAAAAAAAAAAAAAAAAAAAAAAAAAAAAAAAAAAAAAAAAAAAAAAAAAAAAAAAAAAAAAAAAAAAAAAAAAAAAAAAAAAAAAAQAAAAAAAAAAAAAAAAAAAAEAAAAAAAAA/////wAAAAD//wAAAAAAAAAAAAD//////////wAAAAAAAAAA//8AAAAAAAAAAAEAAAAAAAAAAAAAAAAAAAAAAAAAAAAAAAEAAAAAAAAAAAAAAAAAAgACAAEAAAAAAAAAAAAAAAAAAAAAAAAAAAABAAAAAAAAAAAAAQACAAEAAAAAAAAAAAAAAAAAAAAAAAAAAAAAAAAAAAAAAAAAAAAAAAAAAAAAAAEAAQACAAEAAQABAAEAAQABAAEAAAABAAEAAAAAAAAAAAAAAAAAAAAAAAAAAAAAAAAAAAAAAAAAAAD///7//v///wAAAAAAAAAAAAAAAAAAAAAAAAAAAAAAAAAAAAAAAAAAAAAAAAAA//////7//////wAAAAAAAAAAAAAAAAAAAAAAAAAAAAAAAAAAAAAAAAAAAAAAAAAAAAAAAAAAAAAAAAAAAAAAAAAA//////////8AAAAAAAAAAAAAAAAAAAAAAAAAAAAAAAAAAAAAAQABAAEAAAAAAAAAAAAAAAAAAAAAAAAAAAAAAAAAAAAAAAAAAQAAAAAAAAAAAAAAAAAAAAEAAQAAAAAAAAAAAAEAAQAAAAEAAAAAAAAAAAAAAAAAAAAAAAAAAAAAAAAAAAAAAAAAAAAAAP//AAAAAAAAAAABAAEAAAAAAAAAAAAAAAAAAAAAAAAAAAAAAAAAAAAAAAAAAAD//wAAAAAAAAAA//8AAAAAAAAAAAAAAAAAAAAAAAAAAAAAAAAAAP////8AAAAAAAAAAAAAAAAAAAAAAAAAAAAAAAAAAAAAAAAAAAAAAAAAAAAAAAAAAAAA////////AAAAAAAAAAD/////AAAAAAAAAAAAAAAAAAABAAAAAAAAAAAAAAAAAP////8AAAAAAAAAAAAAAAAAAAAAAAAAAAAAAAAAAAEAAQAAAAAAAQACAAEAAQAAAAAAAAAAAAAAAAAAAAAAAAAAAAAAAAAAAAAAAAAAAAAAAAAAAAAAAAAAAAAAAAABAAAAAAAAAAAAAAD//wAAAAAAAAAAAAAAAAAAAAAAAAAAAAAAAAAAAAAAAAAAAAAAAAAAAAAAAAAAAAAAAAAAAAAAAAAAAAAAAAAAAAAAAP//AAAAAAAAAAAAAAAAAAAAAAAAAAAAAAAAAAAAAAAAAAAAAAAAAAABAAAAAAAAAAAAAAAAAAAAAAAAAAAAAAD/////////////AAAAAAAAAAAAAAAAAAAAAAEAAQABAAAAAAAAAAAAAAD//wAAAAAAAAAAAAAAAAAAAAAAAAAAAAAAAAAAAQAAAAAAAAAAAAAAAAABAAEAAAAAAAAAAAAAAAAAAAAAAAAAAAAAAAAAAAAAAAAAAAAAAAAAAAAAAAAAAAAAAAAAAAAAAAAAAAAAAAAAAAAAAAAAAAAAAAAAAAAAAAAAAAAAAAAAAAAAAAAAAAAAAAAAAAAAAAAAAAAAAAAAAAAAAAAAAAAAAAAAAAAAAAAAAAAAAAAAAAAAAAAAAAAAAAAAAAAAAAAAAAAAAAAAAAAAAAAAAAAAAAAAAAAAAAAAAAAAAAAAAAAAAAAAAAAAAAAAAAAAAAAAAAAAAAAAAAAAAAAAAAAAAAAAAAAAAAAAAAAAAAAAAAAAAAAAAAAAAAAAAAAAAAAAAAAAAAAAAAAAAAAAAAAAAAAAAAAAAAAAAAAAAAAAAAAAAAAAAAAAAAAAAAAAAAAAAAAAAAAAAAAAAAAAAQABAAEAAAABAAAAAAAAAAAAAAAAAAAAAAAAAAAAAAAAAAAAAAAAAAAAAAAAAAAAAAAAAAAAAAABAAEAAAAAAAAAAAAAAAAAAAAAAAAAAAAAAAAAAAAAAAAAAAAAAAAAAAAAAAAAAAAAAAAAAAAAAAAAAAAAAAAAAAAAAAAAAAAAAAAAAAAAAAAAAAAAAAAAAAAAAAAAAAAAAAAAAAAAAAAAAAAAAAAAAAAAAAAAAAAAAAAAAAAAAAAAAAAAAAAAAAAAAAAAAAAAAAAAAAAAAAAAAAAAAAAAAAAAAAAAAAAAAAAAAAAAAAAAAAAAAAAAAAAAAAAAAAAAAAAAAAAAAAAAAAAAAAAAAAAAAAAAAAAAAAAAAAAAAAAAAAAAAAAAAAAAAAAAAAAAAAAAAAAAAAAAAAAAAAAAAAAAAAAAAAAAAAAAAAAAAAAAAAAAAAAAAAAAAAAAAAAAAAAAAAAAAP//AAAAAAAAAAAAAAAAAAAAAAAAAAAAAAAAAAAAAAAAAAAAAAAAAAAAAAAAAAAAAAAAAAAAAAAAAAAAAAAAAAAAAAAAAAAAAAAAAAAAAAAAAAAAAAAAAAAAAAAAAAAAAAAAAAAAAAAAAAAAAAAAAAAAAAAAAAAAAAAAAAAAAAAAAAAAAAAAAAAAAAAAAAAAAAAAAAAAAAAAAAAAAAAAAAAAAAAAAAAAAAAA/////wAAAAAAAAAAAAAAAAAAAAAAAAAAAAAAAAAAAAAAAAAAAAAAAAAAAAAAAAAAAAAAAAAAAAAAAAAAAAAAAAAAAAAAAAAAAAAAAAAAAAAAAAAAAAABAAAAAAAAAAAAAAAAAAAAAAAAAAAAAAAAAAAAAAAAAAAAAAAAAAAAAAABAA==\" type=\"audio/x-wav\" />\n",
       "                    Your browser does not support the audio element.\n",
       "                </audio>\n",
       "              "
      ],
      "text/plain": [
       "<IPython.lib.display.Audio object>"
      ]
     },
     "execution_count": 53,
     "metadata": {},
     "output_type": "execute_result"
    }
   ],
   "source": [
    "ipd.Audio(join(train_audio_path, one_line[\"label\"]+\"/\"+one_line[\"filename\"]))"
   ]
  },
  {
   "cell_type": "code",
   "execution_count": null,
   "metadata": {},
   "outputs": [],
   "source": []
  }
 ],
 "metadata": {
  "kernelspec": {
   "display_name": "Python 3",
   "language": "python",
   "name": "python3"
  },
  "language_info": {
   "codemirror_mode": {
    "name": "ipython",
    "version": 3
   },
   "file_extension": ".py",
   "mimetype": "text/x-python",
   "name": "python",
   "nbconvert_exporter": "python",
   "pygments_lexer": "ipython3",
   "version": "3.5.2"
  }
 },
 "nbformat": 4,
 "nbformat_minor": 2
}
