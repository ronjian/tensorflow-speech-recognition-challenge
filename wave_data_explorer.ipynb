{
 "cells": [
  {
   "cell_type": "code",
   "execution_count": null,
   "metadata": {},
   "outputs": [],
   "source": [
    "# #audio data exploration\n",
    "# from scipy.io import wavfile\n",
    "\n",
    "# sample_rate, samples = wavfile.read(\"../data/test/audio/clip_ff72c4530.wav\")\n",
    "\n",
    "# from scipy import signal\n",
    "# import numpy as np\n",
    "# def log_specgram(audio, sample_rate, window_size=20,\n",
    "#                  step_size=10, eps=1e-10):\n",
    "#     nperseg = int(round(window_size * sample_rate / 1e3))\n",
    "#     noverlap = int(round(step_size * sample_rate / 1e3))\n",
    "#     freqs, times, spec = signal.spectrogram(audio,\n",
    "#                                     fs=sample_rate,\n",
    "#                                     window='hann',\n",
    "#                                     nperseg=nperseg,\n",
    "#                                     noverlap=noverlap,\n",
    "#                                     detrend=False)\n",
    "#     return freqs, times, np.log(spec.T.astype(np.float32) + eps)\n",
    "\n",
    "# freqs, times, spectrogram = log_specgram(samples, sample_rate)\n",
    "\n",
    "# spectrogram.shape\n",
    "\n",
    "# import librosa\n",
    "\n",
    "# S = librosa.feature.melspectrogram(samples, sr=sample_rate, n_mels=128)\n",
    "\n",
    "# S.shape\n",
    "\n",
    "# log_S = librosa.power_to_db(S, ref=np.max)\n",
    "\n",
    "# log_S.shape\n",
    "\n",
    "# mfcc = librosa.feature.mfcc(S=log_S, n_mfcc=13)\n",
    "\n",
    "# mfcc.shape\n",
    "\n",
    "# delta2_mfcc = librosa.feature.delta(mfcc, order=2)\n",
    "\n",
    "# delta2_mfcc.shape"
   ]
  },
  {
   "cell_type": "code",
   "execution_count": null,
   "metadata": {},
   "outputs": [],
   "source": []
  }
 ],
 "metadata": {
  "kernelspec": {
   "display_name": "Python 3",
   "language": "python",
   "name": "python3"
  },
  "language_info": {
   "codemirror_mode": {
    "name": "ipython",
    "version": 3
   },
   "file_extension": ".py",
   "mimetype": "text/x-python",
   "name": "python",
   "nbconvert_exporter": "python",
   "pygments_lexer": "ipython3",
   "version": "3.5.2"
  }
 },
 "nbformat": 4,
 "nbformat_minor": 2
}
