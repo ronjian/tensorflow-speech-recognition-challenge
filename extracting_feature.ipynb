{
 "cells": [
  {
   "cell_type": "markdown",
   "metadata": {},
   "source": [
    "## Agenda\n",
    "[Configure](#Configure)  \n",
    "[Training_data](#Training_data)  \n",
    "[Test_data](#Test_data)"
   ]
  },
  {
   "cell_type": "code",
   "execution_count": 1,
   "metadata": {},
   "outputs": [],
   "source": [
    "import os\n",
    "os.chdir(\"/home/maikfangogoair/tensorflow/tensorflow/examples/speech_commands\")"
   ]
  },
  {
   "cell_type": "code",
   "execution_count": 55,
   "metadata": {},
   "outputs": [],
   "source": [
    "from __future__ import absolute_import\n",
    "from __future__ import division\n",
    "from __future__ import print_function\n",
    "\n",
    "import argparse\n",
    "import os.path\n",
    "import sys\n",
    "\n",
    "import numpy as np\n",
    "from six.moves import xrange  # pylint: disable=redefined-builtin\n",
    "import tensorflow as tf\n",
    "\n",
    "import input_data\n",
    "import models\n",
    "from tensorflow.python.platform import gfile\n",
    "\n",
    "import re\n",
    "import io"
   ]
  },
  {
   "cell_type": "markdown",
   "metadata": {},
   "source": [
    "## Configure\n",
    "[back to top](#Agenda)"
   ]
  },
  {
   "cell_type": "code",
   "execution_count": 3,
   "metadata": {},
   "outputs": [],
   "source": [
    "wanted_words=\"yes,no,up,down,left,right,on,off,stop,go\"\n",
    "sample_rate=16000#Expected sample rate of the wavs\n",
    "clip_duration_ms=1000#Expected duration in milliseconds of the wavs\n",
    "window_size_ms=30.0#How long each spectrogram timeslice is\n",
    "window_stride_ms=10.0#How long each spectrogram timeslice is\n",
    "dct_coefficient_count=40#How many bins to use for the MFCC fingerprint\n",
    "data_url=\"http://download.tensorflow.org/data/speech_commands_v0.01.tar.gz\"\n",
    "data_dir=\"/home/maikfangogoair/tmp/label_data\"\n",
    "silence_percentage=10.0 #How much of the training data should be silence.\n",
    "unknown_percentage=10.0 #How much of the training data should be unknown words.\n",
    "validation_percentage=10 #What percentage of wavs to use as a validation set.\n",
    "testing_percentage=10 #What percentage of wavs to use as a test set.\n",
    "time_shift_ms=100.0 #Range to randomly shift the training audio by in time.\n",
    "batch_size=100\n",
    "background_frequency=0.8#How many of the training samples have background noise mixed in.\n",
    "background_volume=0.1#How loud the background noise should be, between 0 and 1"
   ]
  },
  {
   "cell_type": "markdown",
   "metadata": {},
   "source": [
    "## Training_data\n",
    "[back to top](#Agenda)"
   ]
  },
  {
   "cell_type": "code",
   "execution_count": 4,
   "metadata": {},
   "outputs": [
    {
     "name": "stdout",
     "output_type": "stream",
     "text": [
      "40 98\n"
     ]
    }
   ],
   "source": [
    "model_settings = models.prepare_model_settings(\n",
    "    len(input_data.prepare_words_list(wanted_words.split(','))),\n",
    "    sample_rate, clip_duration_ms, window_size_ms,\n",
    "    window_stride_ms, dct_coefficient_count)\n",
    "audio_processor = input_data.AudioProcessor(\n",
    "    data_url, data_dir, silence_percentage,\n",
    "    unknown_percentage,\n",
    "    wanted_words.split(','), validation_percentage,\n",
    "    testing_percentage, model_settings)\n",
    "fingerprint_size = model_settings['fingerprint_size']\n",
    "label_count = model_settings['label_count']\n",
    "time_shift_samples = int((time_shift_ms * sample_rate) / 1000)"
   ]
  },
  {
   "cell_type": "code",
   "execution_count": 5,
   "metadata": {},
   "outputs": [
    {
     "name": "stdout",
     "output_type": "stream",
     "text": [
      "3920\n",
      "12\n",
      "1600\n",
      "{'desired_samples': 16000, 'fingerprint_size': 3920, 'dct_coefficient_count': 40, 'sample_rate': 16000, 'window_size_samples': 480, 'label_count': 12, 'window_stride_samples': 160, 'spectrogram_length': 98}\n",
      "22246\n",
      "3093\n",
      "3081\n"
     ]
    }
   ],
   "source": [
    "print(fingerprint_size)\n",
    "print(label_count)\n",
    "print(time_shift_samples)\n",
    "print(model_settings)\n",
    "print(audio_processor.set_size(\"training\"))\n",
    "print(audio_processor.set_size(\"validation\"))\n",
    "print(audio_processor.set_size(\"testing\"))"
   ]
  },
  {
   "cell_type": "code",
   "execution_count": 6,
   "metadata": {},
   "outputs": [],
   "source": [
    "sess = tf.InteractiveSession()"
   ]
  },
  {
   "cell_type": "code",
   "execution_count": 7,
   "metadata": {},
   "outputs": [],
   "source": [
    "train_fingerprints, train_ground_truth = audio_processor.get_data(\n",
    "    -1, 0, model_settings, background_frequency,\n",
    "    background_volume, time_shift_samples, 'training', sess)\n",
    "validation_fingerprints, validation_ground_truth = (\n",
    "            audio_processor.get_data(-1, 0, model_settings, 0.0,\n",
    "                                     0.0, 0, 'validation', sess))\n",
    "test_fingerprints, test_ground_truth = audio_processor.get_data(\n",
    "    -1, 0, model_settings, 0.0, 0.0, 0, 'testing', sess)"
   ]
  },
  {
   "cell_type": "code",
   "execution_count": 8,
   "metadata": {},
   "outputs": [
    {
     "name": "stdout",
     "output_type": "stream",
     "text": [
      "22246\n",
      "3093\n",
      "3081\n"
     ]
    }
   ],
   "source": [
    "print(train_fingerprints.shape[0])\n",
    "print(validation_fingerprints.shape[0])\n",
    "print(test_fingerprints.shape[0])"
   ]
  },
  {
   "cell_type": "code",
   "execution_count": 9,
   "metadata": {},
   "outputs": [],
   "source": [
    "dir=\"/home/maikfangogoair/tmp/save/\"\n",
    "np.save(dir+\"train_fingerprints.npy\",train_fingerprints)\n",
    "np.save(dir+\"train_ground_truth.npy\",train_ground_truth)\n",
    "np.save(dir+\"validation_fingerprints.npy\",validation_fingerprints)\n",
    "np.save(dir+\"validation_ground_truth.npy\",validation_ground_truth)\n",
    "np.save(dir+\"test_fingerprints.npy\",test_fingerprints)\n",
    "np.save(dir+\"test_ground_truth.npy\",test_ground_truth)"
   ]
  },
  {
   "cell_type": "code",
   "execution_count": 10,
   "metadata": {},
   "outputs": [
    {
     "name": "stdout",
     "output_type": "stream",
     "text": [
      "['_silence_', '_unknown_', 'yes', 'no', 'up', 'down', 'left', 'right', 'on', 'off', 'stop', 'go']\n",
      "{'house': 1, 'tree': 1, 'three': 1, 'go': 11, 'wow': 1, 'cat': 1, 'zero': 1, 'eight': 1, 'nine': 1, 'two': 1, 'dog': 1, 'down': 5, 'happy': 1, 'on': 8, 'four': 1, 'left': 6, 'up': 4, 'off': 9, 'no': 3, 'seven': 1, 'stop': 10, 'yes': 2, 'six': 1, 'bed': 1, 'right': 7, 'one': 1, 'sheila': 1, 'five': 1, '_silence_': 0, 'bird': 1, 'marvin': 1}\n",
      "6\n"
     ]
    }
   ],
   "source": [
    "print(audio_processor.words_list)\n",
    "print(audio_processor.word_to_index)\n",
    "print(len(audio_processor.background_data))"
   ]
  },
  {
   "cell_type": "code",
   "execution_count": 11,
   "metadata": {},
   "outputs": [
    {
     "name": "stdout",
     "output_type": "stream",
     "text": [
      "22246\n",
      "(22246,)\n"
     ]
    }
   ],
   "source": [
    "print(len(audio_processor.data_index['training']))\n",
    "print(train_ground_truth.shape)"
   ]
  },
  {
   "cell_type": "code",
   "execution_count": 12,
   "metadata": {},
   "outputs": [
    {
     "name": "stdout",
     "output_type": "stream",
     "text": [
      "['bird', 'no', 'no', 'go', 'no', '_silence_', 'down', 'happy', 'right', 'no', 'wow', 'on', 'right', 'off', 'on', 'go', 'go', '_silence_', 'no', 'no']\n",
      "[  1.   3.   3.  11.   3.   0.   5.   1.   7.   3.   1.   8.   7.   9.   8.\n",
      "  11.  11.   0.   3.   3.]\n",
      "['_unknown_', 'no', 'no', 'go', 'no', '_silence_', 'down', '_unknown_', 'right', 'no', '_unknown_', 'on', 'right', 'off', 'on', 'go', 'go', '_silence_', 'no', 'no']\n"
     ]
    }
   ],
   "source": [
    "print([x['label']for x in audio_processor.data_index['training'][:20]])\n",
    "print(train_ground_truth[:20])\n",
    "print([audio_processor.words_list[int(x)] for x in train_ground_truth[:20]])"
   ]
  },
  {
   "cell_type": "markdown",
   "metadata": {},
   "source": [
    "## Test_data\n",
    "[back to top](#Agenda)"
   ]
  },
  {
   "cell_type": "code",
   "execution_count": 15,
   "metadata": {},
   "outputs": [],
   "source": [
    "test_wav = os.listdir('/home/maikfangogoair/test/audio/')\n",
    "directory = '/home/maikfangogoair/test/audio/'\n",
    "audio_processor.data_index['real_test'] = []\n",
    "for file_name in test_wav:\n",
    "    line = {'file': directory + file_name, 'label': 'no'}\n",
    "    audio_processor.data_index['real_test'].append(line)"
   ]
  },
  {
   "cell_type": "code",
   "execution_count": 16,
   "metadata": {},
   "outputs": [
    {
     "data": {
      "text/plain": [
       "158538"
      ]
     },
     "execution_count": 16,
     "metadata": {},
     "output_type": "execute_result"
    }
   ],
   "source": [
    "len(audio_processor.data_index['real_test'])"
   ]
  },
  {
   "cell_type": "code",
   "execution_count": 17,
   "metadata": {},
   "outputs": [],
   "source": [
    "real_test_fingerprints, real_test_ground_truth = audio_processor.get_data(\n",
    "    -1, 0, model_settings, 0.0, 0.0, 0, 'real_test', sess)"
   ]
  },
  {
   "cell_type": "code",
   "execution_count": 21,
   "metadata": {},
   "outputs": [
    {
     "data": {
      "text/plain": [
       "158538"
      ]
     },
     "execution_count": 21,
     "metadata": {},
     "output_type": "execute_result"
    }
   ],
   "source": [
    "size = real_test_fingerprints.shape[0]"
   ]
  },
  {
   "cell_type": "code",
   "execution_count": 59,
   "metadata": {},
   "outputs": [
    {
     "name": "stdout",
     "output_type": "stream",
     "text": [
      "removing /home/maikfangogoair/tmp/save/real_test_fingerprints_0.npy\n",
      "removing /home/maikfangogoair/tmp/save/real_test_fingerprints_47559.npy\n",
      "removing /home/maikfangogoair/tmp/save/real_test_fingerprints_31706.npy\n",
      "removing /home/maikfangogoair/tmp/save/real_test_fingerprints_15853.npy\n",
      "removing /home/maikfangogoair/tmp/save/real_test_fingerprints_63412.npy\n",
      "removing /home/maikfangogoair/tmp/save/real_test_fingerprints_79265.npy\n",
      "removing /home/maikfangogoair/tmp/save/real_test_ground_truth_47559.npy\n",
      "removing /home/maikfangogoair/tmp/save/real_test_ground_truth_63412.npy\n",
      "removing /home/maikfangogoair/tmp/save/real_test_ground_truth_31706.npy\n",
      "removing /home/maikfangogoair/tmp/save/real_test_ground_truth_0.npy\n",
      "removing /home/maikfangogoair/tmp/save/real_test_ground_truth_15853.npy\n",
      "removing /home/maikfangogoair/tmp/save/real_test_file_47559.txt\n",
      "removing /home/maikfangogoair/tmp/save/real_test_file_15853.txt\n",
      "removing /home/maikfangogoair/tmp/save/real_test_file_0.txt\n",
      "removing /home/maikfangogoair/tmp/save/real_test_file_63412.txt\n",
      "removing /home/maikfangogoair/tmp/save/real_test_file_31706.txt\n"
     ]
    }
   ],
   "source": [
    "#purge\n",
    "for x in [x for x in os.listdir(dir) if len(re.findall('real_test_fingerprints_.+.npy', x))>0]:\n",
    "    print(\"removing %s\" % (dir+x))\n",
    "    os.remove(dir+x)\n",
    "for x in [x for x in os.listdir(dir) if len(re.findall('real_test_ground_truth_.+.npy', x))>0]:\n",
    "    print(\"removing %s\" % (dir+x))\n",
    "    os.remove(dir+x)\n",
    "for x in [x for x in os.listdir(dir) if len(re.findall('real_test_file_.+.txt', x))>0]:\n",
    "    print(\"removing %s\" % (dir+x))\n",
    "    os.remove(dir+x)"
   ]
  },
  {
   "cell_type": "code",
   "execution_count": 60,
   "metadata": {},
   "outputs": [
    {
     "name": "stdout",
     "output_type": "stream",
     "text": [
      "saving from 0.000000 to 15853.000000\n",
      "saving from 15853.000000 to 31706.000000\n",
      "saving from 31706.000000 to 47559.000000\n",
      "saving from 47559.000000 to 63412.000000\n",
      "saving from 63412.000000 to 79265.000000\n",
      "saving from 79265.000000 to 95118.000000\n",
      "saving from 95118.000000 to 110971.000000\n",
      "saving from 110971.000000 to 126824.000000\n",
      "saving from 126824.000000 to 142677.000000\n",
      "saving from 142677.000000 to 158530.000000\n",
      "saving from 158530.000000 to 158538.000000\n"
     ]
    }
   ],
   "source": [
    "steps = 10 \n",
    "forward = size // steps\n",
    "start = 0\n",
    "for i in range(0, size, forward):\n",
    "    end = min(i+forward, size)\n",
    "    print(\"saving from %f to %f\" % (i, end) )\n",
    "    np.save(dir+\"real_test_fingerprints_\"+ str(i) +\".npy\",real_test_fingerprints[i:end])\n",
    "    np.save(dir+\"real_test_ground_truth_\"+ str(i) +\".npy\",real_test_ground_truth[i:end])\n",
    "    with io.open(dir+\"real_test_file_\"+ str(i) +\".txt\",'w') as f:\n",
    "        for x in audio_processor.data_index['real_test'][i:end]:\n",
    "            f.write(x[\"file\"].split(\"/\")[-1]+'\\n')"
   ]
  },
  {
   "cell_type": "code",
   "execution_count": null,
   "metadata": {},
   "outputs": [],
   "source": []
  }
 ],
 "metadata": {
  "kernelspec": {
   "display_name": "Python 3",
   "language": "python",
   "name": "python3"
  },
  "language_info": {
   "codemirror_mode": {
    "name": "ipython",
    "version": 3
   },
   "file_extension": ".py",
   "mimetype": "text/x-python",
   "name": "python",
   "nbconvert_exporter": "python",
   "pygments_lexer": "ipython3",
   "version": "3.5.2"
  }
 },
 "nbformat": 4,
 "nbformat_minor": 2
}
